{
  "nbformat": 4,
  "nbformat_minor": 0,
  "metadata": {
    "colab": {
      "provenance": [],
      "authorship_tag": "ABX9TyNFLK19iAInPR41DaQN3mmH",
      "include_colab_link": true
    },
    "kernelspec": {
      "name": "python3",
      "display_name": "Python 3"
    },
    "language_info": {
      "name": "python"
    }
  },
  "cells": [
    {
      "cell_type": "markdown",
      "metadata": {
        "id": "view-in-github",
        "colab_type": "text"
      },
      "source": [
        "<a href=\"https://colab.research.google.com/github/rohithreddy999/Machine_learning-AI-predictions/blob/main/Spotify_Revenue%2C_Expenses_and_Its_Premium_Users.ipynb\" target=\"_parent\"><img src=\"https://colab.research.google.com/assets/colab-badge.svg\" alt=\"Open In Colab\"/></a>"
      ]
    },
    {
      "cell_type": "code",
      "execution_count": 29,
      "metadata": {
        "id": "63C0njzblccs"
      },
      "outputs": [],
      "source": [
        "import numpy as np\n",
        "import pandas as pd\n",
        "import seaborn as sns"
      ]
    },
    {
      "cell_type": "code",
      "source": [
        "df=pd.read_csv(\"/content/Spotify Quarterly.csv\")"
      ],
      "metadata": {
        "id": "vleR-p1jlm1e"
      },
      "execution_count": 30,
      "outputs": []
    },
    {
      "cell_type": "code",
      "source": [
        "df.head()"
      ],
      "metadata": {
        "colab": {
          "base_uri": "https://localhost:8080/",
          "height": 207
        },
        "id": "WAzlr72flm34",
        "outputId": "4318ca8f-ef53-4f3b-bacd-d49b563a9b68"
      },
      "execution_count": 31,
      "outputs": [
        {
          "output_type": "execute_result",
          "data": {
            "text/plain": [
              "         Date  Total Revenue  Cost of Revenue  Gross Profit  Premium Revenue  \\\n",
              "0  31-03-2023         3042.0           2276.0         776.0           2713.0   \n",
              "1  31-12-2022         3166.0           2365.0         801.0           2717.0   \n",
              "2  30-09-2022         3036.0           2286.0         750.0           2651.0   \n",
              "3  30-06-2022         2864.0           2160.0         704.0           2504.0   \n",
              "4  31-03-2022         2661.0           1990.0         671.0           2379.0   \n",
              "\n",
              "   Premium Cost Revenue  Premium Gross Profit  Ad Revenue  Ad Cost of revenue  \\\n",
              "0                1937.0                 776.0       329.0               339.0   \n",
              "1                1939.0                 778.0       449.0               426.0   \n",
              "2                1908.0                 743.0       385.0               378.0   \n",
              "3                1804.0                 700.0       360.0               356.0   \n",
              "4                1704.0                 675.0       282.0               286.0   \n",
              "\n",
              "   Ad gross Profit   MAUs  Premium MAUs  Ad MAUs  Premium ARPU  \\\n",
              "0            -10.0  515.0         210.0    317.0          4.32   \n",
              "1             23.0  489.0         205.0    295.0          4.55   \n",
              "2              7.0  456.0         195.0    273.0          4.63   \n",
              "3              4.0  433.0         188.0    265.0          4.54   \n",
              "4             -4.0  422.0         182.0    252.0          4.38   \n",
              "\n",
              "   Sales and Marketing Cost  Research and Development Cost  \\\n",
              "0                     347.0                          435.0   \n",
              "1                     453.0                          415.0   \n",
              "2                     432.0                          386.0   \n",
              "3                     391.0                          336.0   \n",
              "4                     296.0                          250.0   \n",
              "\n",
              "   Genreal and Adminstraive Cost  \n",
              "0                          140.0  \n",
              "1                          164.0  \n",
              "2                          160.0  \n",
              "3                          171.0  \n",
              "4                          131.0  "
            ],
            "text/html": [
              "\n",
              "  <div id=\"df-8fb42d52-0c89-4914-8dd2-72968ddcd71f\">\n",
              "    <div class=\"colab-df-container\">\n",
              "      <div>\n",
              "<style scoped>\n",
              "    .dataframe tbody tr th:only-of-type {\n",
              "        vertical-align: middle;\n",
              "    }\n",
              "\n",
              "    .dataframe tbody tr th {\n",
              "        vertical-align: top;\n",
              "    }\n",
              "\n",
              "    .dataframe thead th {\n",
              "        text-align: right;\n",
              "    }\n",
              "</style>\n",
              "<table border=\"1\" class=\"dataframe\">\n",
              "  <thead>\n",
              "    <tr style=\"text-align: right;\">\n",
              "      <th></th>\n",
              "      <th>Date</th>\n",
              "      <th>Total Revenue</th>\n",
              "      <th>Cost of Revenue</th>\n",
              "      <th>Gross Profit</th>\n",
              "      <th>Premium Revenue</th>\n",
              "      <th>Premium Cost Revenue</th>\n",
              "      <th>Premium Gross Profit</th>\n",
              "      <th>Ad Revenue</th>\n",
              "      <th>Ad Cost of revenue</th>\n",
              "      <th>Ad gross Profit</th>\n",
              "      <th>MAUs</th>\n",
              "      <th>Premium MAUs</th>\n",
              "      <th>Ad MAUs</th>\n",
              "      <th>Premium ARPU</th>\n",
              "      <th>Sales and Marketing Cost</th>\n",
              "      <th>Research and Development Cost</th>\n",
              "      <th>Genreal and Adminstraive Cost</th>\n",
              "    </tr>\n",
              "  </thead>\n",
              "  <tbody>\n",
              "    <tr>\n",
              "      <th>0</th>\n",
              "      <td>31-03-2023</td>\n",
              "      <td>3042.0</td>\n",
              "      <td>2276.0</td>\n",
              "      <td>776.0</td>\n",
              "      <td>2713.0</td>\n",
              "      <td>1937.0</td>\n",
              "      <td>776.0</td>\n",
              "      <td>329.0</td>\n",
              "      <td>339.0</td>\n",
              "      <td>-10.0</td>\n",
              "      <td>515.0</td>\n",
              "      <td>210.0</td>\n",
              "      <td>317.0</td>\n",
              "      <td>4.32</td>\n",
              "      <td>347.0</td>\n",
              "      <td>435.0</td>\n",
              "      <td>140.0</td>\n",
              "    </tr>\n",
              "    <tr>\n",
              "      <th>1</th>\n",
              "      <td>31-12-2022</td>\n",
              "      <td>3166.0</td>\n",
              "      <td>2365.0</td>\n",
              "      <td>801.0</td>\n",
              "      <td>2717.0</td>\n",
              "      <td>1939.0</td>\n",
              "      <td>778.0</td>\n",
              "      <td>449.0</td>\n",
              "      <td>426.0</td>\n",
              "      <td>23.0</td>\n",
              "      <td>489.0</td>\n",
              "      <td>205.0</td>\n",
              "      <td>295.0</td>\n",
              "      <td>4.55</td>\n",
              "      <td>453.0</td>\n",
              "      <td>415.0</td>\n",
              "      <td>164.0</td>\n",
              "    </tr>\n",
              "    <tr>\n",
              "      <th>2</th>\n",
              "      <td>30-09-2022</td>\n",
              "      <td>3036.0</td>\n",
              "      <td>2286.0</td>\n",
              "      <td>750.0</td>\n",
              "      <td>2651.0</td>\n",
              "      <td>1908.0</td>\n",
              "      <td>743.0</td>\n",
              "      <td>385.0</td>\n",
              "      <td>378.0</td>\n",
              "      <td>7.0</td>\n",
              "      <td>456.0</td>\n",
              "      <td>195.0</td>\n",
              "      <td>273.0</td>\n",
              "      <td>4.63</td>\n",
              "      <td>432.0</td>\n",
              "      <td>386.0</td>\n",
              "      <td>160.0</td>\n",
              "    </tr>\n",
              "    <tr>\n",
              "      <th>3</th>\n",
              "      <td>30-06-2022</td>\n",
              "      <td>2864.0</td>\n",
              "      <td>2160.0</td>\n",
              "      <td>704.0</td>\n",
              "      <td>2504.0</td>\n",
              "      <td>1804.0</td>\n",
              "      <td>700.0</td>\n",
              "      <td>360.0</td>\n",
              "      <td>356.0</td>\n",
              "      <td>4.0</td>\n",
              "      <td>433.0</td>\n",
              "      <td>188.0</td>\n",
              "      <td>265.0</td>\n",
              "      <td>4.54</td>\n",
              "      <td>391.0</td>\n",
              "      <td>336.0</td>\n",
              "      <td>171.0</td>\n",
              "    </tr>\n",
              "    <tr>\n",
              "      <th>4</th>\n",
              "      <td>31-03-2022</td>\n",
              "      <td>2661.0</td>\n",
              "      <td>1990.0</td>\n",
              "      <td>671.0</td>\n",
              "      <td>2379.0</td>\n",
              "      <td>1704.0</td>\n",
              "      <td>675.0</td>\n",
              "      <td>282.0</td>\n",
              "      <td>286.0</td>\n",
              "      <td>-4.0</td>\n",
              "      <td>422.0</td>\n",
              "      <td>182.0</td>\n",
              "      <td>252.0</td>\n",
              "      <td>4.38</td>\n",
              "      <td>296.0</td>\n",
              "      <td>250.0</td>\n",
              "      <td>131.0</td>\n",
              "    </tr>\n",
              "  </tbody>\n",
              "</table>\n",
              "</div>\n",
              "      <button class=\"colab-df-convert\" onclick=\"convertToInteractive('df-8fb42d52-0c89-4914-8dd2-72968ddcd71f')\"\n",
              "              title=\"Convert this dataframe to an interactive table.\"\n",
              "              style=\"display:none;\">\n",
              "        \n",
              "  <svg xmlns=\"http://www.w3.org/2000/svg\" height=\"24px\"viewBox=\"0 0 24 24\"\n",
              "       width=\"24px\">\n",
              "    <path d=\"M0 0h24v24H0V0z\" fill=\"none\"/>\n",
              "    <path d=\"M18.56 5.44l.94 2.06.94-2.06 2.06-.94-2.06-.94-.94-2.06-.94 2.06-2.06.94zm-11 1L8.5 8.5l.94-2.06 2.06-.94-2.06-.94L8.5 2.5l-.94 2.06-2.06.94zm10 10l.94 2.06.94-2.06 2.06-.94-2.06-.94-.94-2.06-.94 2.06-2.06.94z\"/><path d=\"M17.41 7.96l-1.37-1.37c-.4-.4-.92-.59-1.43-.59-.52 0-1.04.2-1.43.59L10.3 9.45l-7.72 7.72c-.78.78-.78 2.05 0 2.83L4 21.41c.39.39.9.59 1.41.59.51 0 1.02-.2 1.41-.59l7.78-7.78 2.81-2.81c.8-.78.8-2.07 0-2.86zM5.41 20L4 18.59l7.72-7.72 1.47 1.35L5.41 20z\"/>\n",
              "  </svg>\n",
              "      </button>\n",
              "      \n",
              "  <style>\n",
              "    .colab-df-container {\n",
              "      display:flex;\n",
              "      flex-wrap:wrap;\n",
              "      gap: 12px;\n",
              "    }\n",
              "\n",
              "    .colab-df-convert {\n",
              "      background-color: #E8F0FE;\n",
              "      border: none;\n",
              "      border-radius: 50%;\n",
              "      cursor: pointer;\n",
              "      display: none;\n",
              "      fill: #1967D2;\n",
              "      height: 32px;\n",
              "      padding: 0 0 0 0;\n",
              "      width: 32px;\n",
              "    }\n",
              "\n",
              "    .colab-df-convert:hover {\n",
              "      background-color: #E2EBFA;\n",
              "      box-shadow: 0px 1px 2px rgba(60, 64, 67, 0.3), 0px 1px 3px 1px rgba(60, 64, 67, 0.15);\n",
              "      fill: #174EA6;\n",
              "    }\n",
              "\n",
              "    [theme=dark] .colab-df-convert {\n",
              "      background-color: #3B4455;\n",
              "      fill: #D2E3FC;\n",
              "    }\n",
              "\n",
              "    [theme=dark] .colab-df-convert:hover {\n",
              "      background-color: #434B5C;\n",
              "      box-shadow: 0px 1px 3px 1px rgba(0, 0, 0, 0.15);\n",
              "      filter: drop-shadow(0px 1px 2px rgba(0, 0, 0, 0.3));\n",
              "      fill: #FFFFFF;\n",
              "    }\n",
              "  </style>\n",
              "\n",
              "      <script>\n",
              "        const buttonEl =\n",
              "          document.querySelector('#df-8fb42d52-0c89-4914-8dd2-72968ddcd71f button.colab-df-convert');\n",
              "        buttonEl.style.display =\n",
              "          google.colab.kernel.accessAllowed ? 'block' : 'none';\n",
              "\n",
              "        async function convertToInteractive(key) {\n",
              "          const element = document.querySelector('#df-8fb42d52-0c89-4914-8dd2-72968ddcd71f');\n",
              "          const dataTable =\n",
              "            await google.colab.kernel.invokeFunction('convertToInteractive',\n",
              "                                                     [key], {});\n",
              "          if (!dataTable) return;\n",
              "\n",
              "          const docLinkHtml = 'Like what you see? Visit the ' +\n",
              "            '<a target=\"_blank\" href=https://colab.research.google.com/notebooks/data_table.ipynb>data table notebook</a>'\n",
              "            + ' to learn more about interactive tables.';\n",
              "          element.innerHTML = '';\n",
              "          dataTable['output_type'] = 'display_data';\n",
              "          await google.colab.output.renderOutput(dataTable, element);\n",
              "          const docLink = document.createElement('div');\n",
              "          docLink.innerHTML = docLinkHtml;\n",
              "          element.appendChild(docLink);\n",
              "        }\n",
              "      </script>\n",
              "    </div>\n",
              "  </div>\n",
              "  "
            ]
          },
          "metadata": {},
          "execution_count": 31
        }
      ]
    },
    {
      "cell_type": "code",
      "source": [
        "df.drop(columns=\"Date\",axis=1,inplace=True)"
      ],
      "metadata": {
        "id": "UhVbdxw2lm6C"
      },
      "execution_count": 32,
      "outputs": []
    },
    {
      "cell_type": "code",
      "source": [
        "df.head()"
      ],
      "metadata": {
        "colab": {
          "base_uri": "https://localhost:8080/",
          "height": 207
        },
        "id": "0L8TyH6rlm90",
        "outputId": "aaa62e0a-6519-4d62-fd6d-bb2a81da86e4"
      },
      "execution_count": 33,
      "outputs": [
        {
          "output_type": "execute_result",
          "data": {
            "text/plain": [
              "   Total Revenue  Cost of Revenue  Gross Profit  Premium Revenue  \\\n",
              "0         3042.0           2276.0         776.0           2713.0   \n",
              "1         3166.0           2365.0         801.0           2717.0   \n",
              "2         3036.0           2286.0         750.0           2651.0   \n",
              "3         2864.0           2160.0         704.0           2504.0   \n",
              "4         2661.0           1990.0         671.0           2379.0   \n",
              "\n",
              "   Premium Cost Revenue  Premium Gross Profit  Ad Revenue  Ad Cost of revenue  \\\n",
              "0                1937.0                 776.0       329.0               339.0   \n",
              "1                1939.0                 778.0       449.0               426.0   \n",
              "2                1908.0                 743.0       385.0               378.0   \n",
              "3                1804.0                 700.0       360.0               356.0   \n",
              "4                1704.0                 675.0       282.0               286.0   \n",
              "\n",
              "   Ad gross Profit   MAUs  Premium MAUs  Ad MAUs  Premium ARPU  \\\n",
              "0            -10.0  515.0         210.0    317.0          4.32   \n",
              "1             23.0  489.0         205.0    295.0          4.55   \n",
              "2              7.0  456.0         195.0    273.0          4.63   \n",
              "3              4.0  433.0         188.0    265.0          4.54   \n",
              "4             -4.0  422.0         182.0    252.0          4.38   \n",
              "\n",
              "   Sales and Marketing Cost  Research and Development Cost  \\\n",
              "0                     347.0                          435.0   \n",
              "1                     453.0                          415.0   \n",
              "2                     432.0                          386.0   \n",
              "3                     391.0                          336.0   \n",
              "4                     296.0                          250.0   \n",
              "\n",
              "   Genreal and Adminstraive Cost  \n",
              "0                          140.0  \n",
              "1                          164.0  \n",
              "2                          160.0  \n",
              "3                          171.0  \n",
              "4                          131.0  "
            ],
            "text/html": [
              "\n",
              "  <div id=\"df-eeefd36f-df0e-4dc3-a98c-611a732f1c85\">\n",
              "    <div class=\"colab-df-container\">\n",
              "      <div>\n",
              "<style scoped>\n",
              "    .dataframe tbody tr th:only-of-type {\n",
              "        vertical-align: middle;\n",
              "    }\n",
              "\n",
              "    .dataframe tbody tr th {\n",
              "        vertical-align: top;\n",
              "    }\n",
              "\n",
              "    .dataframe thead th {\n",
              "        text-align: right;\n",
              "    }\n",
              "</style>\n",
              "<table border=\"1\" class=\"dataframe\">\n",
              "  <thead>\n",
              "    <tr style=\"text-align: right;\">\n",
              "      <th></th>\n",
              "      <th>Total Revenue</th>\n",
              "      <th>Cost of Revenue</th>\n",
              "      <th>Gross Profit</th>\n",
              "      <th>Premium Revenue</th>\n",
              "      <th>Premium Cost Revenue</th>\n",
              "      <th>Premium Gross Profit</th>\n",
              "      <th>Ad Revenue</th>\n",
              "      <th>Ad Cost of revenue</th>\n",
              "      <th>Ad gross Profit</th>\n",
              "      <th>MAUs</th>\n",
              "      <th>Premium MAUs</th>\n",
              "      <th>Ad MAUs</th>\n",
              "      <th>Premium ARPU</th>\n",
              "      <th>Sales and Marketing Cost</th>\n",
              "      <th>Research and Development Cost</th>\n",
              "      <th>Genreal and Adminstraive Cost</th>\n",
              "    </tr>\n",
              "  </thead>\n",
              "  <tbody>\n",
              "    <tr>\n",
              "      <th>0</th>\n",
              "      <td>3042.0</td>\n",
              "      <td>2276.0</td>\n",
              "      <td>776.0</td>\n",
              "      <td>2713.0</td>\n",
              "      <td>1937.0</td>\n",
              "      <td>776.0</td>\n",
              "      <td>329.0</td>\n",
              "      <td>339.0</td>\n",
              "      <td>-10.0</td>\n",
              "      <td>515.0</td>\n",
              "      <td>210.0</td>\n",
              "      <td>317.0</td>\n",
              "      <td>4.32</td>\n",
              "      <td>347.0</td>\n",
              "      <td>435.0</td>\n",
              "      <td>140.0</td>\n",
              "    </tr>\n",
              "    <tr>\n",
              "      <th>1</th>\n",
              "      <td>3166.0</td>\n",
              "      <td>2365.0</td>\n",
              "      <td>801.0</td>\n",
              "      <td>2717.0</td>\n",
              "      <td>1939.0</td>\n",
              "      <td>778.0</td>\n",
              "      <td>449.0</td>\n",
              "      <td>426.0</td>\n",
              "      <td>23.0</td>\n",
              "      <td>489.0</td>\n",
              "      <td>205.0</td>\n",
              "      <td>295.0</td>\n",
              "      <td>4.55</td>\n",
              "      <td>453.0</td>\n",
              "      <td>415.0</td>\n",
              "      <td>164.0</td>\n",
              "    </tr>\n",
              "    <tr>\n",
              "      <th>2</th>\n",
              "      <td>3036.0</td>\n",
              "      <td>2286.0</td>\n",
              "      <td>750.0</td>\n",
              "      <td>2651.0</td>\n",
              "      <td>1908.0</td>\n",
              "      <td>743.0</td>\n",
              "      <td>385.0</td>\n",
              "      <td>378.0</td>\n",
              "      <td>7.0</td>\n",
              "      <td>456.0</td>\n",
              "      <td>195.0</td>\n",
              "      <td>273.0</td>\n",
              "      <td>4.63</td>\n",
              "      <td>432.0</td>\n",
              "      <td>386.0</td>\n",
              "      <td>160.0</td>\n",
              "    </tr>\n",
              "    <tr>\n",
              "      <th>3</th>\n",
              "      <td>2864.0</td>\n",
              "      <td>2160.0</td>\n",
              "      <td>704.0</td>\n",
              "      <td>2504.0</td>\n",
              "      <td>1804.0</td>\n",
              "      <td>700.0</td>\n",
              "      <td>360.0</td>\n",
              "      <td>356.0</td>\n",
              "      <td>4.0</td>\n",
              "      <td>433.0</td>\n",
              "      <td>188.0</td>\n",
              "      <td>265.0</td>\n",
              "      <td>4.54</td>\n",
              "      <td>391.0</td>\n",
              "      <td>336.0</td>\n",
              "      <td>171.0</td>\n",
              "    </tr>\n",
              "    <tr>\n",
              "      <th>4</th>\n",
              "      <td>2661.0</td>\n",
              "      <td>1990.0</td>\n",
              "      <td>671.0</td>\n",
              "      <td>2379.0</td>\n",
              "      <td>1704.0</td>\n",
              "      <td>675.0</td>\n",
              "      <td>282.0</td>\n",
              "      <td>286.0</td>\n",
              "      <td>-4.0</td>\n",
              "      <td>422.0</td>\n",
              "      <td>182.0</td>\n",
              "      <td>252.0</td>\n",
              "      <td>4.38</td>\n",
              "      <td>296.0</td>\n",
              "      <td>250.0</td>\n",
              "      <td>131.0</td>\n",
              "    </tr>\n",
              "  </tbody>\n",
              "</table>\n",
              "</div>\n",
              "      <button class=\"colab-df-convert\" onclick=\"convertToInteractive('df-eeefd36f-df0e-4dc3-a98c-611a732f1c85')\"\n",
              "              title=\"Convert this dataframe to an interactive table.\"\n",
              "              style=\"display:none;\">\n",
              "        \n",
              "  <svg xmlns=\"http://www.w3.org/2000/svg\" height=\"24px\"viewBox=\"0 0 24 24\"\n",
              "       width=\"24px\">\n",
              "    <path d=\"M0 0h24v24H0V0z\" fill=\"none\"/>\n",
              "    <path d=\"M18.56 5.44l.94 2.06.94-2.06 2.06-.94-2.06-.94-.94-2.06-.94 2.06-2.06.94zm-11 1L8.5 8.5l.94-2.06 2.06-.94-2.06-.94L8.5 2.5l-.94 2.06-2.06.94zm10 10l.94 2.06.94-2.06 2.06-.94-2.06-.94-.94-2.06-.94 2.06-2.06.94z\"/><path d=\"M17.41 7.96l-1.37-1.37c-.4-.4-.92-.59-1.43-.59-.52 0-1.04.2-1.43.59L10.3 9.45l-7.72 7.72c-.78.78-.78 2.05 0 2.83L4 21.41c.39.39.9.59 1.41.59.51 0 1.02-.2 1.41-.59l7.78-7.78 2.81-2.81c.8-.78.8-2.07 0-2.86zM5.41 20L4 18.59l7.72-7.72 1.47 1.35L5.41 20z\"/>\n",
              "  </svg>\n",
              "      </button>\n",
              "      \n",
              "  <style>\n",
              "    .colab-df-container {\n",
              "      display:flex;\n",
              "      flex-wrap:wrap;\n",
              "      gap: 12px;\n",
              "    }\n",
              "\n",
              "    .colab-df-convert {\n",
              "      background-color: #E8F0FE;\n",
              "      border: none;\n",
              "      border-radius: 50%;\n",
              "      cursor: pointer;\n",
              "      display: none;\n",
              "      fill: #1967D2;\n",
              "      height: 32px;\n",
              "      padding: 0 0 0 0;\n",
              "      width: 32px;\n",
              "    }\n",
              "\n",
              "    .colab-df-convert:hover {\n",
              "      background-color: #E2EBFA;\n",
              "      box-shadow: 0px 1px 2px rgba(60, 64, 67, 0.3), 0px 1px 3px 1px rgba(60, 64, 67, 0.15);\n",
              "      fill: #174EA6;\n",
              "    }\n",
              "\n",
              "    [theme=dark] .colab-df-convert {\n",
              "      background-color: #3B4455;\n",
              "      fill: #D2E3FC;\n",
              "    }\n",
              "\n",
              "    [theme=dark] .colab-df-convert:hover {\n",
              "      background-color: #434B5C;\n",
              "      box-shadow: 0px 1px 3px 1px rgba(0, 0, 0, 0.15);\n",
              "      filter: drop-shadow(0px 1px 2px rgba(0, 0, 0, 0.3));\n",
              "      fill: #FFFFFF;\n",
              "    }\n",
              "  </style>\n",
              "\n",
              "      <script>\n",
              "        const buttonEl =\n",
              "          document.querySelector('#df-eeefd36f-df0e-4dc3-a98c-611a732f1c85 button.colab-df-convert');\n",
              "        buttonEl.style.display =\n",
              "          google.colab.kernel.accessAllowed ? 'block' : 'none';\n",
              "\n",
              "        async function convertToInteractive(key) {\n",
              "          const element = document.querySelector('#df-eeefd36f-df0e-4dc3-a98c-611a732f1c85');\n",
              "          const dataTable =\n",
              "            await google.colab.kernel.invokeFunction('convertToInteractive',\n",
              "                                                     [key], {});\n",
              "          if (!dataTable) return;\n",
              "\n",
              "          const docLinkHtml = 'Like what you see? Visit the ' +\n",
              "            '<a target=\"_blank\" href=https://colab.research.google.com/notebooks/data_table.ipynb>data table notebook</a>'\n",
              "            + ' to learn more about interactive tables.';\n",
              "          element.innerHTML = '';\n",
              "          dataTable['output_type'] = 'display_data';\n",
              "          await google.colab.output.renderOutput(dataTable, element);\n",
              "          const docLink = document.createElement('div');\n",
              "          docLink.innerHTML = docLinkHtml;\n",
              "          element.appendChild(docLink);\n",
              "        }\n",
              "      </script>\n",
              "    </div>\n",
              "  </div>\n",
              "  "
            ]
          },
          "metadata": {},
          "execution_count": 33
        }
      ]
    },
    {
      "cell_type": "code",
      "source": [
        "df.shape"
      ],
      "metadata": {
        "colab": {
          "base_uri": "https://localhost:8080/"
        },
        "id": "XmMgA2Fzoho7",
        "outputId": "62169dc8-b285-485d-9835-7e0e78aef0f9"
      },
      "execution_count": 34,
      "outputs": [
        {
          "output_type": "execute_result",
          "data": {
            "text/plain": [
              "(26, 16)"
            ]
          },
          "metadata": {},
          "execution_count": 34
        }
      ]
    },
    {
      "cell_type": "code",
      "source": [
        "df.isnull().sum()"
      ],
      "metadata": {
        "colab": {
          "base_uri": "https://localhost:8080/"
        },
        "id": "GkoGh819lm_8",
        "outputId": "951b8825-8a77-4afd-dd54-df5cd0f5e526"
      },
      "execution_count": 35,
      "outputs": [
        {
          "output_type": "execute_result",
          "data": {
            "text/plain": [
              "Total Revenue                    1\n",
              "Cost of Revenue                  1\n",
              "Gross Profit                     1\n",
              "Premium Revenue                  1\n",
              "Premium Cost Revenue             1\n",
              "Premium Gross Profit             1\n",
              "Ad Revenue                       1\n",
              "Ad Cost of revenue               1\n",
              "Ad gross Profit                  1\n",
              "MAUs                             1\n",
              "Premium MAUs                     1\n",
              "Ad MAUs                          1\n",
              "Premium ARPU                     0\n",
              "Sales and Marketing Cost         1\n",
              "Research and Development Cost    1\n",
              "Genreal and Adminstraive Cost    1\n",
              "dtype: int64"
            ]
          },
          "metadata": {},
          "execution_count": 35
        }
      ]
    },
    {
      "cell_type": "code",
      "source": [
        "sns.distplot(df[\"Total Revenue\"])"
      ],
      "metadata": {
        "colab": {
          "base_uri": "https://localhost:8080/",
          "height": 657
        },
        "id": "i602-KJumWVU",
        "outputId": "0c664350-3044-4e0d-e46b-44828d691a67"
      },
      "execution_count": 10,
      "outputs": [
        {
          "output_type": "stream",
          "name": "stderr",
          "text": [
            "<ipython-input-10-ab36d6ff4a6d>:1: UserWarning: \n",
            "\n",
            "`distplot` is a deprecated function and will be removed in seaborn v0.14.0.\n",
            "\n",
            "Please adapt your code to use either `displot` (a figure-level function with\n",
            "similar flexibility) or `histplot` (an axes-level function for histograms).\n",
            "\n",
            "For a guide to updating your code to use the new functions, please see\n",
            "https://gist.github.com/mwaskom/de44147ed2974457ad6372750bbe5751\n",
            "\n",
            "  sns.distplot(df[\"Total Revenue\"])\n"
          ]
        },
        {
          "output_type": "execute_result",
          "data": {
            "text/plain": [
              "<Axes: xlabel='Total Revenue', ylabel='Density'>"
            ]
          },
          "metadata": {},
          "execution_count": 10
        },
        {
          "output_type": "display_data",
          "data": {
            "text/plain": [
              "<Figure size 640x480 with 1 Axes>"
            ],
            "image/png": "[encoded data removed]"
          },
          "metadata": {}
        }
      ]
    },
    {
      "cell_type": "code",
      "source": [
        "df.dropna(inplace=True)\n",
        "print(df.isnull().sum())"
      ],
      "metadata": {
        "colab": {
          "base_uri": "https://localhost:8080/"
        },
        "id": "xwMA7xZ1oNvG",
        "outputId": "2855e945-e59e-4103-8e22-1c45bda0fee2"
      },
      "execution_count": 36,
      "outputs": [
        {
          "output_type": "stream",
          "name": "stdout",
          "text": [
            "Total Revenue                    0\n",
            "Cost of Revenue                  0\n",
            "Gross Profit                     0\n",
            "Premium Revenue                  0\n",
            "Premium Cost Revenue             0\n",
            "Premium Gross Profit             0\n",
            "Ad Revenue                       0\n",
            "Ad Cost of revenue               0\n",
            "Ad gross Profit                  0\n",
            "MAUs                             0\n",
            "Premium MAUs                     0\n",
            "Ad MAUs                          0\n",
            "Premium ARPU                     0\n",
            "Sales and Marketing Cost         0\n",
            "Research and Development Cost    0\n",
            "Genreal and Adminstraive Cost    0\n",
            "dtype: int64\n"
          ]
        }
      ]
    },
    {
      "cell_type": "code",
      "source": [
        "df.shape"
      ],
      "metadata": {
        "colab": {
          "base_uri": "https://localhost:8080/"
        },
        "id": "eCvtKM7KmU9u",
        "outputId": "08104168-bcf3-41fc-a187-a4b839642cc5"
      },
      "execution_count": 37,
      "outputs": [
        {
          "output_type": "execute_result",
          "data": {
            "text/plain": [
              "(25, 16)"
            ]
          },
          "metadata": {},
          "execution_count": 37
        }
      ]
    },
    {
      "cell_type": "code",
      "source": [
        "df.isnull().sum()"
      ],
      "metadata": {
        "colab": {
          "base_uri": "https://localhost:8080/"
        },
        "id": "8kJ9ziu4m9vh",
        "outputId": "d99a8149-21c3-4dcc-ce65-72a6ae3c2102"
      },
      "execution_count": 38,
      "outputs": [
        {
          "output_type": "execute_result",
          "data": {
            "text/plain": [
              "Total Revenue                    0\n",
              "Cost of Revenue                  0\n",
              "Gross Profit                     0\n",
              "Premium Revenue                  0\n",
              "Premium Cost Revenue             0\n",
              "Premium Gross Profit             0\n",
              "Ad Revenue                       0\n",
              "Ad Cost of revenue               0\n",
              "Ad gross Profit                  0\n",
              "MAUs                             0\n",
              "Premium MAUs                     0\n",
              "Ad MAUs                          0\n",
              "Premium ARPU                     0\n",
              "Sales and Marketing Cost         0\n",
              "Research and Development Cost    0\n",
              "Genreal and Adminstraive Cost    0\n",
              "dtype: int64"
            ]
          },
          "metadata": {},
          "execution_count": 38
        }
      ]
    },
    {
      "cell_type": "code",
      "source": [
        "x=df.drop(columns=\"Total Revenue\")\n",
        "x.head()"
      ],
      "metadata": {
        "colab": {
          "base_uri": "https://localhost:8080/",
          "height": 207
        },
        "id": "5TtP2AN5on8E",
        "outputId": "66d2fc87-f49d-45d2-c814-bebe7b536318"
      },
      "execution_count": 39,
      "outputs": [
        {
          "output_type": "execute_result",
          "data": {
            "text/plain": [
              "   Cost of Revenue  Gross Profit  Premium Revenue  Premium Cost Revenue  \\\n",
              "0           2276.0         776.0           2713.0                1937.0   \n",
              "1           2365.0         801.0           2717.0                1939.0   \n",
              "2           2286.0         750.0           2651.0                1908.0   \n",
              "3           2160.0         704.0           2504.0                1804.0   \n",
              "4           1990.0         671.0           2379.0                1704.0   \n",
              "\n",
              "   Premium Gross Profit  Ad Revenue  Ad Cost of revenue  Ad gross Profit  \\\n",
              "0                 776.0       329.0               339.0            -10.0   \n",
              "1                 778.0       449.0               426.0             23.0   \n",
              "2                 743.0       385.0               378.0              7.0   \n",
              "3                 700.0       360.0               356.0              4.0   \n",
              "4                 675.0       282.0               286.0             -4.0   \n",
              "\n",
              "    MAUs  Premium MAUs  Ad MAUs  Premium ARPU  Sales and Marketing Cost  \\\n",
              "0  515.0         210.0    317.0          4.32                     347.0   \n",
              "1  489.0         205.0    295.0          4.55                     453.0   \n",
              "2  456.0         195.0    273.0          4.63                     432.0   \n",
              "3  433.0         188.0    265.0          4.54                     391.0   \n",
              "4  422.0         182.0    252.0          4.38                     296.0   \n",
              "\n",
              "   Research and Development Cost  Genreal and Adminstraive Cost  \n",
              "0                          435.0                          140.0  \n",
              "1                          415.0                          164.0  \n",
              "2                          386.0                          160.0  \n",
              "3                          336.0                          171.0  \n",
              "4                          250.0                          131.0  "
            ],
            "text/html": [
              "\n",
              "  <div id=\"df-42b9d3cb-5cd6-490b-b842-2d4a04259ce1\">\n",
              "    <div class=\"colab-df-container\">\n",
              "      <div>\n",
              "<style scoped>\n",
              "    .dataframe tbody tr th:only-of-type {\n",
              "        vertical-align: middle;\n",
              "    }\n",
              "\n",
              "    .dataframe tbody tr th {\n",
              "        vertical-align: top;\n",
              "    }\n",
              "\n",
              "    .dataframe thead th {\n",
              "        text-align: right;\n",
              "    }\n",
              "</style>\n",
              "<table border=\"1\" class=\"dataframe\">\n",
              "  <thead>\n",
              "    <tr style=\"text-align: right;\">\n",
              "      <th></th>\n",
              "      <th>Cost of Revenue</th>\n",
              "      <th>Gross Profit</th>\n",
              "      <th>Premium Revenue</th>\n",
              "      <th>Premium Cost Revenue</th>\n",
              "      <th>Premium Gross Profit</th>\n",
              "      <th>Ad Revenue</th>\n",
              "      <th>Ad Cost of revenue</th>\n",
              "      <th>Ad gross Profit</th>\n",
              "      <th>MAUs</th>\n",
              "      <th>Premium MAUs</th>\n",
              "      <th>Ad MAUs</th>\n",
              "      <th>Premium ARPU</th>\n",
              "      <th>Sales and Marketing Cost</th>\n",
              "      <th>Research and Development Cost</th>\n",
              "      <th>Genreal and Adminstraive Cost</th>\n",
              "    </tr>\n",
              "  </thead>\n",
              "  <tbody>\n",
              "    <tr>\n",
              "      <th>0</th>\n",
              "      <td>2276.0</td>\n",
              "      <td>776.0</td>\n",
              "      <td>2713.0</td>\n",
              "      <td>1937.0</td>\n",
              "      <td>776.0</td>\n",
              "      <td>329.0</td>\n",
              "      <td>339.0</td>\n",
              "      <td>-10.0</td>\n",
              "      <td>515.0</td>\n",
              "      <td>210.0</td>\n",
              "      <td>317.0</td>\n",
              "      <td>4.32</td>\n",
              "      <td>347.0</td>\n",
              "      <td>435.0</td>\n",
              "      <td>140.0</td>\n",
              "    </tr>\n",
              "    <tr>\n",
              "      <th>1</th>\n",
              "      <td>2365.0</td>\n",
              "      <td>801.0</td>\n",
              "      <td>2717.0</td>\n",
              "      <td>1939.0</td>\n",
              "      <td>778.0</td>\n",
              "      <td>449.0</td>\n",
              "      <td>426.0</td>\n",
              "      <td>23.0</td>\n",
              "      <td>489.0</td>\n",
              "      <td>205.0</td>\n",
              "      <td>295.0</td>\n",
              "      <td>4.55</td>\n",
              "      <td>453.0</td>\n",
              "      <td>415.0</td>\n",
              "      <td>164.0</td>\n",
              "    </tr>\n",
              "    <tr>\n",
              "      <th>2</th>\n",
              "      <td>2286.0</td>\n",
              "      <td>750.0</td>\n",
              "      <td>2651.0</td>\n",
              "      <td>1908.0</td>\n",
              "      <td>743.0</td>\n",
              "      <td>385.0</td>\n",
              "      <td>378.0</td>\n",
              "      <td>7.0</td>\n",
              "      <td>456.0</td>\n",
              "      <td>195.0</td>\n",
              "      <td>273.0</td>\n",
              "      <td>4.63</td>\n",
              "      <td>432.0</td>\n",
              "      <td>386.0</td>\n",
              "      <td>160.0</td>\n",
              "    </tr>\n",
              "    <tr>\n",
              "      <th>3</th>\n",
              "      <td>2160.0</td>\n",
              "      <td>704.0</td>\n",
              "      <td>2504.0</td>\n",
              "      <td>1804.0</td>\n",
              "      <td>700.0</td>\n",
              "      <td>360.0</td>\n",
              "      <td>356.0</td>\n",
              "      <td>4.0</td>\n",
              "      <td>433.0</td>\n",
              "      <td>188.0</td>\n",
              "      <td>265.0</td>\n",
              "      <td>4.54</td>\n",
              "      <td>391.0</td>\n",
              "      <td>336.0</td>\n",
              "      <td>171.0</td>\n",
              "    </tr>\n",
              "    <tr>\n",
              "      <th>4</th>\n",
              "      <td>1990.0</td>\n",
              "      <td>671.0</td>\n",
              "      <td>2379.0</td>\n",
              "      <td>1704.0</td>\n",
              "      <td>675.0</td>\n",
              "      <td>282.0</td>\n",
              "      <td>286.0</td>\n",
              "      <td>-4.0</td>\n",
              "      <td>422.0</td>\n",
              "      <td>182.0</td>\n",
              "      <td>252.0</td>\n",
              "      <td>4.38</td>\n",
              "      <td>296.0</td>\n",
              "      <td>250.0</td>\n",
              "      <td>131.0</td>\n",
              "    </tr>\n",
              "  </tbody>\n",
              "</table>\n",
              "</div>\n",
              "      <button class=\"colab-df-convert\" onclick=\"convertToInteractive('df-42b9d3cb-5cd6-490b-b842-2d4a04259ce1')\"\n",
              "              title=\"Convert this dataframe to an interactive table.\"\n",
              "              style=\"display:none;\">\n",
              "        \n",
              "  <svg xmlns=\"http://www.w3.org/2000/svg\" height=\"24px\"viewBox=\"0 0 24 24\"\n",
              "       width=\"24px\">\n",
              "    <path d=\"M0 0h24v24H0V0z\" fill=\"none\"/>\n",
              "    <path d=\"M18.56 5.44l.94 2.06.94-2.06 2.06-.94-2.06-.94-.94-2.06-.94 2.06-2.06.94zm-11 1L8.5 8.5l.94-2.06 2.06-.94-2.06-.94L8.5 2.5l-.94 2.06-2.06.94zm10 10l.94 2.06.94-2.06 2.06-.94-2.06-.94-.94-2.06-.94 2.06-2.06.94z\"/><path d=\"M17.41 7.96l-1.37-1.37c-.4-.4-.92-.59-1.43-.59-.52 0-1.04.2-1.43.59L10.3 9.45l-7.72 7.72c-.78.78-.78 2.05 0 2.83L4 21.41c.39.39.9.59 1.41.59.51 0 1.02-.2 1.41-.59l7.78-7.78 2.81-2.81c.8-.78.8-2.07 0-2.86zM5.41 20L4 18.59l7.72-7.72 1.47 1.35L5.41 20z\"/>\n",
              "  </svg>\n",
              "      </button>\n",
              "      \n",
              "  <style>\n",
              "    .colab-df-container {\n",
              "      display:flex;\n",
              "      flex-wrap:wrap;\n",
              "      gap: 12px;\n",
              "    }\n",
              "\n",
              "    .colab-df-convert {\n",
              "      background-color: #E8F0FE;\n",
              "      border: none;\n",
              "      border-radius: 50%;\n",
              "      cursor: pointer;\n",
              "      display: none;\n",
              "      fill: #1967D2;\n",
              "      height: 32px;\n",
              "      padding: 0 0 0 0;\n",
              "      width: 32px;\n",
              "    }\n",
              "\n",
              "    .colab-df-convert:hover {\n",
              "      background-color: #E2EBFA;\n",
              "      box-shadow: 0px 1px 2px rgba(60, 64, 67, 0.3), 0px 1px 3px 1px rgba(60, 64, 67, 0.15);\n",
              "      fill: #174EA6;\n",
              "    }\n",
              "\n",
              "    [theme=dark] .colab-df-convert {\n",
              "      background-color: #3B4455;\n",
              "      fill: #D2E3FC;\n",
              "    }\n",
              "\n",
              "    [theme=dark] .colab-df-convert:hover {\n",
              "      background-color: #434B5C;\n",
              "      box-shadow: 0px 1px 3px 1px rgba(0, 0, 0, 0.15);\n",
              "      filter: drop-shadow(0px 1px 2px rgba(0, 0, 0, 0.3));\n",
              "      fill: #FFFFFF;\n",
              "    }\n",
              "  </style>\n",
              "\n",
              "      <script>\n",
              "        const buttonEl =\n",
              "          document.querySelector('#df-42b9d3cb-5cd6-490b-b842-2d4a04259ce1 button.colab-df-convert');\n",
              "        buttonEl.style.display =\n",
              "          google.colab.kernel.accessAllowed ? 'block' : 'none';\n",
              "\n",
              "        async function convertToInteractive(key) {\n",
              "          const element = document.querySelector('#df-42b9d3cb-5cd6-490b-b842-2d4a04259ce1');\n",
              "          const dataTable =\n",
              "            await google.colab.kernel.invokeFunction('convertToInteractive',\n",
              "                                                     [key], {});\n",
              "          if (!dataTable) return;\n",
              "\n",
              "          const docLinkHtml = 'Like what you see? Visit the ' +\n",
              "            '<a target=\"_blank\" href=https://colab.research.google.com/notebooks/data_table.ipynb>data table notebook</a>'\n",
              "            + ' to learn more about interactive tables.';\n",
              "          element.innerHTML = '';\n",
              "          dataTable['output_type'] = 'display_data';\n",
              "          await google.colab.output.renderOutput(dataTable, element);\n",
              "          const docLink = document.createElement('div');\n",
              "          docLink.innerHTML = docLinkHtml;\n",
              "          element.appendChild(docLink);\n",
              "        }\n",
              "      </script>\n",
              "    </div>\n",
              "  </div>\n",
              "  "
            ]
          },
          "metadata": {},
          "execution_count": 39
        }
      ]
    },
    {
      "cell_type": "code",
      "source": [
        "y=df[\"Total Revenue\"]\n",
        "y.head()"
      ],
      "metadata": {
        "colab": {
          "base_uri": "https://localhost:8080/"
        },
        "id": "Rjlvzr73on45",
        "outputId": "9758aa11-6829-401b-9359-38bbc52dea74"
      },
      "execution_count": 40,
      "outputs": [
        {
          "output_type": "execute_result",
          "data": {
            "text/plain": [
              "0    3042.0\n",
              "1    3166.0\n",
              "2    3036.0\n",
              "3    2864.0\n",
              "4    2661.0\n",
              "Name: Total Revenue, dtype: float64"
            ]
          },
          "metadata": {},
          "execution_count": 40
        }
      ]
    },
    {
      "cell_type": "code",
      "source": [
        "from sklearn.model_selection  import train_test_split\n",
        "xtrain,xtest,ytrain,ytest=train_test_split(x,y,test_size=0.2,random_state=0)"
      ],
      "metadata": {
        "id": "pGLvCp9non1L"
      },
      "execution_count": 41,
      "outputs": []
    },
    {
      "cell_type": "code",
      "source": [
        "xtrain.shape,xtest.shape,ytrain.shape,ytest.shape"
      ],
      "metadata": {
        "colab": {
          "base_uri": "https://localhost:8080/"
        },
        "id": "7kefXCrvp3l-",
        "outputId": "9e29f3ed-3099-4b2d-fda5-4da8b37d2819"
      },
      "execution_count": 43,
      "outputs": [
        {
          "output_type": "execute_result",
          "data": {
            "text/plain": [
              "((20, 15), (5, 15), (20,), (5,))"
            ]
          },
          "metadata": {},
          "execution_count": 43
        }
      ]
    },
    {
      "cell_type": "markdown",
      "source": [
        "ANN REGRESSOR"
      ],
      "metadata": {
        "id": "J_eFzurrtgmv"
      }
    },
    {
      "cell_type": "code",
      "source": [
        "from tensorflow.keras.models import Sequential\n",
        "from tensorflow.keras.layers import Dense"
      ],
      "metadata": {
        "id": "IvT9V9Ekony-"
      },
      "execution_count": 42,
      "outputs": []
    },
    {
      "cell_type": "code",
      "source": [
        "reg_model=Sequential()\n",
        "#adding input layer\n",
        "reg_model.add(Dense(15,activation=\"relu\"))\n",
        "#adding hidden layers-2\n",
        "reg_model.add(Dense(89,activation=\"relu\"))\n",
        "reg_model.add(Dense(95,activation=\"relu\"))\n",
        "#adding output layer\n",
        "reg_model.add(Dense(1,activation=\"linear\"))\n"
      ],
      "metadata": {
        "id": "vd28OcOYonwj"
      },
      "execution_count": 44,
      "outputs": []
    },
    {
      "cell_type": "code",
      "source": [
        "# Compiling the skeleton with loss and gradient decent\n",
        "reg_model.compile(optimizer='adam',loss='mse')"
      ],
      "metadata": {
        "id": "q-u8OJC3qea8"
      },
      "execution_count": 45,
      "outputs": []
    },
    {
      "cell_type": "code",
      "source": [
        "reg_model.fit(xtrain,ytrain,batch_size=2,epochs=40)"
      ],
      "metadata": {
        "colab": {
          "base_uri": "https://localhost:8080/"
        },
        "id": "yDHMPHJ-qgtA",
        "outputId": "cbbf7769-7eb4-45f9-e8a4-299c2a62853c"
      },
      "execution_count": 47,
      "outputs": [
        {
          "output_type": "stream",
          "name": "stdout",
          "text": [
            "Epoch 1/40\n",
            "10/10 [==============================] - 1s 4ms/step - loss: 2141816.2500\n",
            "Epoch 2/40\n",
            "10/10 [==============================] - 0s 3ms/step - loss: 418483.0625\n",
            "Epoch 3/40\n",
            "10/10 [==============================] - 0s 3ms/step - loss: 66466.9766\n",
            "Epoch 4/40\n",
            "10/10 [==============================] - 0s 3ms/step - loss: 45319.8008\n",
            "Epoch 5/40\n",
            "10/10 [==============================] - 0s 3ms/step - loss: 8554.0000\n",
            "Epoch 6/40\n",
            "10/10 [==============================] - 0s 3ms/step - loss: 8381.8398\n",
            "Epoch 7/40\n",
            "10/10 [==============================] - 0s 3ms/step - loss: 2079.8325\n",
            "Epoch 8/40\n",
            "10/10 [==============================] - 0s 3ms/step - loss: 3372.3079\n",
            "Epoch 9/40\n",
            "10/10 [==============================] - 0s 3ms/step - loss: 2201.4109\n",
            "Epoch 10/40\n",
            "10/10 [==============================] - 0s 3ms/step - loss: 1853.8070\n",
            "Epoch 11/40\n",
            "10/10 [==============================] - 0s 3ms/step - loss: 1783.3199\n",
            "Epoch 12/40\n",
            "10/10 [==============================] - 0s 3ms/step - loss: 1836.1064\n",
            "Epoch 13/40\n",
            "10/10 [==============================] - 0s 2ms/step - loss: 1910.4681\n",
            "Epoch 14/40\n",
            "10/10 [==============================] - 0s 2ms/step - loss: 1637.9027\n",
            "Epoch 15/40\n",
            "10/10 [==============================] - 0s 2ms/step - loss: 1601.6378\n",
            "Epoch 16/40\n",
            "10/10 [==============================] - 0s 2ms/step - loss: 1662.1586\n",
            "Epoch 17/40\n",
            "10/10 [==============================] - 0s 3ms/step - loss: 1482.4006\n",
            "Epoch 18/40\n",
            "10/10 [==============================] - 0s 4ms/step - loss: 1446.5676\n",
            "Epoch 19/40\n",
            "10/10 [==============================] - 0s 2ms/step - loss: 1771.5475\n",
            "Epoch 20/40\n",
            "10/10 [==============================] - 0s 2ms/step - loss: 1263.7107\n",
            "Epoch 21/40\n",
            "10/10 [==============================] - 0s 2ms/step - loss: 1395.4694\n",
            "Epoch 22/40\n",
            "10/10 [==============================] - 0s 3ms/step - loss: 1294.1781\n",
            "Epoch 23/40\n",
            "10/10 [==============================] - 0s 2ms/step - loss: 1286.2678\n",
            "Epoch 24/40\n",
            "10/10 [==============================] - 0s 3ms/step - loss: 1334.5948\n",
            "Epoch 25/40\n",
            "10/10 [==============================] - 0s 2ms/step - loss: 1282.4871\n",
            "Epoch 26/40\n",
            "10/10 [==============================] - 0s 3ms/step - loss: 1143.2034\n",
            "Epoch 27/40\n",
            "10/10 [==============================] - 0s 3ms/step - loss: 1096.8010\n",
            "Epoch 28/40\n",
            "10/10 [==============================] - 0s 2ms/step - loss: 1035.1428\n",
            "Epoch 29/40\n",
            "10/10 [==============================] - 0s 3ms/step - loss: 1096.5413\n",
            "Epoch 30/40\n",
            "10/10 [==============================] - 0s 3ms/step - loss: 1024.9958\n",
            "Epoch 31/40\n",
            "10/10 [==============================] - 0s 3ms/step - loss: 943.9518\n",
            "Epoch 32/40\n",
            "10/10 [==============================] - 0s 3ms/step - loss: 934.6569\n",
            "Epoch 33/40\n",
            "10/10 [==============================] - 0s 3ms/step - loss: 916.7648\n",
            "Epoch 34/40\n",
            "10/10 [==============================] - 0s 3ms/step - loss: 866.0868\n",
            "Epoch 35/40\n",
            "10/10 [==============================] - 0s 2ms/step - loss: 765.7625\n",
            "Epoch 36/40\n",
            "10/10 [==============================] - 0s 2ms/step - loss: 728.7565\n",
            "Epoch 37/40\n",
            "10/10 [==============================] - 0s 3ms/step - loss: 774.0302\n",
            "Epoch 38/40\n",
            "10/10 [==============================] - 0s 3ms/step - loss: 718.0178\n",
            "Epoch 39/40\n",
            "10/10 [==============================] - 0s 2ms/step - loss: 645.2073\n",
            "Epoch 40/40\n",
            "10/10 [==============================] - 0s 3ms/step - loss: 628.8150\n"
          ]
        },
        {
          "output_type": "execute_result",
          "data": {
            "text/plain": [
              "<keras.callbacks.History at 0x7f0f91626920>"
            ]
          },
          "metadata": {},
          "execution_count": 47
        }
      ]
    },
    {
      "cell_type": "code",
      "source": [
        "y_pred=reg_model.predict(xtest)"
      ],
      "metadata": {
        "colab": {
          "base_uri": "https://localhost:8080/"
        },
        "id": "xrhDQ1zKqxwR",
        "outputId": "2a017072-db59-46c7-95f5-2139304d0d15"
      },
      "execution_count": 49,
      "outputs": [
        {
          "output_type": "stream",
          "name": "stdout",
          "text": [
            "1/1 [==============================] - 0s 134ms/step\n"
          ]
        }
      ]
    },
    {
      "cell_type": "markdown",
      "source": [
        "TESTING THE MODEL\n"
      ],
      "metadata": {
        "id": "NsKC1yL4rx8v"
      }
    },
    {
      "cell_type": "code",
      "source": [
        "reg_model.predict([[2276.0,776.0,2713.0,1937.0,776.0,329.0\t,339.0,\t-10.0,\t515.0,\t210.0,\t317.0,\t4.32,\t347.0,\t435.0,\t140.0]])"
      ],
      "metadata": {
        "colab": {
          "base_uri": "https://localhost:8080/"
        },
        "id": "WccfLZfHqxsx",
        "outputId": "a8a846cc-e9d9-47e8-fbec-c7d21c730d29"
      },
      "execution_count": 51,
      "outputs": [
        {
          "output_type": "stream",
          "name": "stdout",
          "text": [
            "1/1 [==============================] - 0s 102ms/step\n"
          ]
        },
        {
          "output_type": "execute_result",
          "data": {
            "text/plain": [
              "array([[3046.0835]], dtype=float32)"
            ]
          },
          "metadata": {},
          "execution_count": 51
        }
      ]
    },
    {
      "cell_type": "code",
      "source": [
        "reg_model.predict([[6.0,76,13.0,19.0,77.0,32.0\t,39.0,2.0,5.0,\t21.0,\t37.0,\t4.2,\t37.0,\t435.0,\t40.0]])"
      ],
      "metadata": {
        "colab": {
          "base_uri": "https://localhost:8080/"
        },
        "id": "JRqma9r8qxqh",
        "outputId": "610a2008-e1e6-4891-f89e-0e6d893502cf"
      },
      "execution_count": 53,
      "outputs": [
        {
          "output_type": "stream",
          "name": "stdout",
          "text": [
            "1/1 [==============================] - 0s 44ms/step\n"
          ]
        },
        {
          "output_type": "execute_result",
          "data": {
            "text/plain": [
              "array([[202.97878]], dtype=float32)"
            ]
          },
          "metadata": {},
          "execution_count": 53
        }
      ]
    },
    {
      "cell_type": "markdown",
      "source": [
        "VISUALIZATION\n"
      ],
      "metadata": {
        "id": "4tMwJ6kwsLQt"
      }
    },
    {
      "cell_type": "code",
      "source": [
        "sns.boxplot(df[\"Total Revenue\"])"
      ],
      "metadata": {
        "colab": {
          "base_uri": "https://localhost:8080/",
          "height": 447
        },
        "id": "hUfjugV8qxli",
        "outputId": "a5bfc3ee-70dc-4abe-b015-4ee8f51b8d3b"
      },
      "execution_count": 54,
      "outputs": [
        {
          "output_type": "execute_result",
          "data": {
            "text/plain": [
              "<Axes: >"
            ]
          },
          "metadata": {},
          "execution_count": 54
        },
        {
          "output_type": "display_data",
          "data": {
            "text/plain": [
              "<Figure size 640x480 with 1 Axes>"
            ],
            "image/png": "[encoded data removed]"
          },
          "metadata": {}
        }
      ]
    },
    {
      "cell_type": "markdown",
      "source": [
        "FROM THE ABOVE GRAPH WE CAN SAY THAT THE OUTLIERS ARE NOT PRESENT IN IT"
      ],
      "metadata": {
        "id": "F3BZs4otskZz"
      }
    },
    {
      "cell_type": "code",
      "source": [
        "sns.histplot(df[\"Total Revenue\"])"
      ],
      "metadata": {
        "colab": {
          "base_uri": "https://localhost:8080/",
          "height": 466
        },
        "id": "NVQUSBE-qxg1",
        "outputId": "dbde5214-d79a-4c5a-9c06-1afd4068d304"
      },
      "execution_count": 56,
      "outputs": [
        {
          "output_type": "execute_result",
          "data": {
            "text/plain": [
              "<Axes: xlabel='Total Revenue', ylabel='Count'>"
            ]
          },
          "metadata": {},
          "execution_count": 56
        },
        {
          "output_type": "display_data",
          "data": {
            "text/plain": [
              "<Figure size 640x480 with 1 Axes>"
            ],
            "image/png": "[encoded data removed]"
          },
          "metadata": {}
        }
      ]
    },
    {
      "cell_type": "code",
      "source": [
        "sns.catplot(df[\"Total Revenue\"])"
      ],
      "metadata": {
        "colab": {
          "base_uri": "https://localhost:8080/",
          "height": 524
        },
        "id": "YjJDRpRKs1nV",
        "outputId": "60d96b9e-ffc6-4000-8843-a6c32777cc78"
      },
      "execution_count": 57,
      "outputs": [
        {
          "output_type": "execute_result",
          "data": {
            "text/plain": [
              "<seaborn.axisgrid.FacetGrid at 0x7f0f923a8d90>"
            ]
          },
          "metadata": {},
          "execution_count": 57
        },
        {
          "output_type": "display_data",
          "data": {
            "text/plain": [
              "<Figure size 500x500 with 1 Axes>"
            ],
            "image/png": "[encoded data removed]"
          },
          "metadata": {}
        }
      ]
    },
    {
      "cell_type": "code",
      "source": [
        "sns.heatmap(df)"
      ],
      "metadata": {
        "colab": {
          "base_uri": "https://localhost:8080/",
          "height": 660
        },
        "id": "QYi8V8R9s1lF",
        "outputId": "79ad1039-cc17-4f74-f9d4-0f160ac59bcd"
      },
      "execution_count": 58,
      "outputs": [
        {
          "output_type": "execute_result",
          "data": {
            "text/plain": [
              "<Axes: >"
            ]
          },
          "metadata": {},
          "execution_count": 58
        },
        {
          "output_type": "display_data",
          "data": {
            "text/plain": [
              "<Figure size 640x480 with 2 Axes>"
            ],
            "image/png": "[encoded data removed]"
          },
          "metadata": {}
        }
      ]
    },
    {
      "cell_type": "code",
      "source": [
        "sns.clustermap(df)"
      ],
      "metadata": {
        "colab": {
          "base_uri": "https://localhost:8080/",
          "height": 1000
        },
        "id": "wBWPXp5cs1jb",
        "outputId": "734b1da1-5f10-47bc-e788-ea16cbff6e0a"
      },
      "execution_count": 59,
      "outputs": [
        {
          "output_type": "execute_result",
          "data": {
            "text/plain": [
              "<seaborn.matrix.ClusterGrid at 0x7f0f7f5e6320>"
            ]
          },
          "metadata": {},
          "execution_count": 59
        },
        {
          "output_type": "display_data",
          "data": {
            "text/plain": [
              "<Figure size 1000x1000 with 4 Axes>"
            ],
            "image/png": "[encoded data removed]"
          },
          "metadata": {}
        }
      ]
    },
    {
      "cell_type": "code",
      "source": [
        "sns.scatterplot(x=df[\"Total Revenue\"],y=df[\"Premium Revenue\"])"
      ],
      "metadata": {
        "colab": {
          "base_uri": "https://localhost:8080/",
          "height": 466
        },
        "id": "fiukfHyPs1g4",
        "outputId": "a0735c09-7332-4e0b-8e8b-38a885d44558"
      },
      "execution_count": 64,
      "outputs": [
        {
          "output_type": "execute_result",
          "data": {
            "text/plain": [
              "<Axes: xlabel='Total Revenue', ylabel='Premium Revenue'>"
            ]
          },
          "metadata": {},
          "execution_count": 64
        },
        {
          "output_type": "display_data",
          "data": {
            "text/plain": [
              "<Figure size 640x480 with 1 Axes>"
            ],
            "image/png": "[encoded data removed]"
          },
          "metadata": {}
        }
      ]
    }
  ]
}