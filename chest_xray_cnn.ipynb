{
  "nbformat": 4,
  "nbformat_minor": 0,
  "metadata": {
    "colab": {
      "provenance": [],
      "gpuType": "T4",
      "mount_file_id": "1RWR0JvDqG4tuC_sP31rXDleVVmKREDIb",
      "authorship_tag": "ABX9TyOOZ6aVuqqCUEj+Fh4nJi2E",
      "include_colab_link": true
    },
    "kernelspec": {
      "name": "python3",
      "display_name": "Python 3"
    },
    "language_info": {
      "name": "python"
    },
    "accelerator": "GPU"
  },
  "cells": [
    {
      "cell_type": "markdown",
      "metadata": {
        "id": "view-in-github",
        "colab_type": "text"
      },
      "source": [
        "<a href=\"https://colab.research.google.com/github/rohithreddy999/Machine_learning-AI-predictions/blob/main/chest_xray_cnn.ipynb\" target=\"_parent\"><img src=\"https://colab.research.google.com/assets/colab-badge.svg\" alt=\"Open In Colab\"/></a>"
      ]
    },
    {
      "cell_type": "code",
      "execution_count": 34,
      "metadata": {
        "id": "DVVQbEP7ZrOp",
        "colab": {
          "base_uri": "https://localhost:8080/"
        },
        "outputId": "7ca8854d-4e0a-40ae-ffa6-6caf42738b27"
      },
      "outputs": [
        {
          "output_type": "stream",
          "name": "stdout",
          "text": [
            "Archive:  /content/drive/MyDrive/chest x ray/chest x ray.zip\n",
            "replace chest x ray/test/.DS_Store? [y]es, [n]o, [A]ll, [N]one, [r]ename: "
          ]
        }
      ],
      "source": [
        "\n",
        "!unzip '/content/drive/MyDrive/chest x ray/chest x ray.zip'"
      ]
    },
    {
      "cell_type": "code",
      "source": [
        "from tensorflow.keras.preprocessing.image import ImageDataGenerator"
      ],
      "metadata": {
        "id": "Uza1hd83fOpQ"
      },
      "execution_count": 35,
      "outputs": []
    },
    {
      "cell_type": "code",
      "source": [
        "train_gen=ImageDataGenerator(rescale=(1./255),horizontal_flip=True,shear_range=0.2)\n",
        "test_gen=ImageDataGenerator(rescale=(1./255))"
      ],
      "metadata": {
        "id": "Q6X_kLELmTS0"
      },
      "execution_count": 36,
      "outputs": []
    },
    {
      "cell_type": "code",
      "source": [
        "train=train_gen.flow_from_directory(\"/content/chest x ray/train\",\n",
        "                                   target_size=(120,120),\n",
        "                                   class_mode=\"categorical\",\n",
        "                                   batch_size=8)\n",
        "test=test_gen.flow_from_directory(\"/content/chest x ray/test\",\n",
        "                                  target_size=(120,120),\n",
        "                                   class_mode=\"categorical\",\n",
        "                                   batch_size=8)"
      ],
      "metadata": {
        "colab": {
          "base_uri": "https://localhost:8080/"
        },
        "id": "YpSwDZcDmTPg",
        "outputId": "426d5086-1f58-4065-d156-14f1056e37a7"
      },
      "execution_count": 37,
      "outputs": [
        {
          "output_type": "stream",
          "name": "stdout",
          "text": [
            "Found 5216 images belonging to 2 classes.\n",
            "Found 624 images belonging to 2 classes.\n"
          ]
        }
      ]
    },
    {
      "cell_type": "code",
      "source": [
        "train.class_indices"
      ],
      "metadata": {
        "colab": {
          "base_uri": "https://localhost:8080/"
        },
        "id": "l4ZTFQnEpo2W",
        "outputId": "bea3c3a5-b9a6-41aa-f4d2-d2e7876f8985"
      },
      "execution_count": 38,
      "outputs": [
        {
          "output_type": "execute_result",
          "data": {
            "text/plain": [
              "{'NORMAL': 0, 'PNEUMONIA': 1}"
            ]
          },
          "metadata": {},
          "execution_count": 38
        }
      ]
    },
    {
      "cell_type": "code",
      "source": [
        "#CNN MODEL BUILDING\n",
        "from tensorflow.keras.layers import Convolution2D,MaxPooling2D,Flatten,Dense\n",
        "from tensorflow.keras.models import Sequential"
      ],
      "metadata": {
        "id": "IGq2V-IBnc0Y"
      },
      "execution_count": 43,
      "outputs": []
    },
    {
      "cell_type": "code",
      "source": [
        "model = Sequential()\n",
        "model.add(Convolution2D(20,(3,3),activation='relu',input_shape=(120, 120,3)))\n",
        "model.add(MaxPooling2D(pool_size=(2,2)))\n",
        "model.add(Flatten())\n",
        "model.add(Dense(45,activation='relu'))\n",
        "model.add(Dense(2,activation='softmax'))"
      ],
      "metadata": {
        "id": "sHjNdDvxmTM2"
      },
      "execution_count": 61,
      "outputs": []
    },
    {
      "cell_type": "code",
      "source": [
        "model.compile(optimizer=\"adam\", loss=\"categorical_crossentropy\", metrics=[\"accuracy\"])"
      ],
      "metadata": {
        "id": "uQIyi6tHpvjz"
      },
      "execution_count": 62,
      "outputs": []
    },
    {
      "cell_type": "code",
      "source": [
        "model.fit(train,batch_size=8,validation_data=test,epochs=4)"
      ],
      "metadata": {
        "colab": {
          "base_uri": "https://localhost:8080/"
        },
        "id": "yg0ZYqd0p-Bf",
        "outputId": "045f7f77-7df3-45b3-92c6-4321efc39c72"
      },
      "execution_count": 63,
      "outputs": [
        {
          "output_type": "stream",
          "name": "stdout",
          "text": [
            "Epoch 1/4\n",
            "652/652 [==============================] - 89s 134ms/step - loss: 0.2587 - accuracy: 0.9130 - val_loss: 0.6757 - val_accuracy: 0.7532\n",
            "Epoch 2/4\n",
            "652/652 [==============================] - 87s 133ms/step - loss: 0.1011 - accuracy: 0.9632 - val_loss: 0.5566 - val_accuracy: 0.7981\n",
            "Epoch 3/4\n",
            "652/652 [==============================] - 83s 127ms/step - loss: 0.0915 - accuracy: 0.9640 - val_loss: 1.3205 - val_accuracy: 0.7019\n",
            "Epoch 4/4\n",
            "652/652 [==============================] - 87s 133ms/step - loss: 0.0697 - accuracy: 0.9722 - val_loss: 1.1041 - val_accuracy: 0.7292\n"
          ]
        },
        {
          "output_type": "execute_result",
          "data": {
            "text/plain": [
              "<keras.callbacks.History at 0x7f31bc2d2470>"
            ]
          },
          "metadata": {},
          "execution_count": 63
        }
      ]
    },
    {
      "cell_type": "code",
      "source": [
        "import numpy as np\n",
        "from tensorflow.keras.preprocessing import image"
      ],
      "metadata": {
        "id": "yMgN68N6yCIQ"
      },
      "execution_count": 71,
      "outputs": []
    },
    {
      "cell_type": "code",
      "source": [
        "img=image.load_img(\"/content/test.jpg\",target_size=(120,120))\n",
        "img=image.img_to_array(img)"
      ],
      "metadata": {
        "id": "N7o6W_DI0vx3"
      },
      "execution_count": 72,
      "outputs": []
    },
    {
      "cell_type": "code",
      "source": [
        "img=np.expand_dims(img,axis=0)"
      ],
      "metadata": {
        "id": "H_mB6mhH0vuT"
      },
      "execution_count": 73,
      "outputs": []
    },
    {
      "cell_type": "code",
      "source": [
        "img"
      ],
      "metadata": {
        "colab": {
          "base_uri": "https://localhost:8080/"
        },
        "id": "OOdcLQ0F0vrK",
        "outputId": "bd33d291-6c8e-435e-f9ab-38eda644e376"
      },
      "execution_count": 74,
      "outputs": [
        {
          "output_type": "execute_result",
          "data": {
            "text/plain": [
              "array([[[[  8.,   8.,   8.],\n",
              "         [  1.,   1.,   1.],\n",
              "         [  2.,   2.,   2.],\n",
              "         ...,\n",
              "         [  2.,   2.,   2.],\n",
              "         [  0.,   0.,   0.],\n",
              "         [ 19.,  19.,  19.]],\n",
              "\n",
              "        [[  8.,   8.,   8.],\n",
              "         [  1.,   1.,   1.],\n",
              "         [  1.,   1.,   1.],\n",
              "         ...,\n",
              "         [  1.,   1.,   1.],\n",
              "         [  1.,   1.,   1.],\n",
              "         [ 16.,  16.,  16.]],\n",
              "\n",
              "        [[  8.,   8.,   8.],\n",
              "         [  1.,   1.,   1.],\n",
              "         [  1.,   1.,   1.],\n",
              "         ...,\n",
              "         [  1.,   1.,   1.],\n",
              "         [  1.,   1.,   1.],\n",
              "         [ 19.,  19.,  19.]],\n",
              "\n",
              "        ...,\n",
              "\n",
              "        [[ 18.,  18.,  18.],\n",
              "         [  6.,   6.,   6.],\n",
              "         [  6.,   6.,   6.],\n",
              "         ...,\n",
              "         [  1.,   1.,   1.],\n",
              "         [  8.,   8.,   8.],\n",
              "         [ 29.,  29.,  29.]],\n",
              "\n",
              "        [[ 30.,  30.,  30.],\n",
              "         [ 18.,  18.,  18.],\n",
              "         [ 19.,  19.,  19.],\n",
              "         ...,\n",
              "         [  8.,   8.,   8.],\n",
              "         [173., 173., 173.],\n",
              "         [209., 209., 209.]],\n",
              "\n",
              "        [[ 53.,  53.,  53.],\n",
              "         [ 47.,  47.,  47.],\n",
              "         [ 50.,  50.,  50.],\n",
              "         ...,\n",
              "         [ 36.,  36.,  36.],\n",
              "         [ 54.,  54.,  54.],\n",
              "         [ 83.,  83.,  83.]]]], dtype=float32)"
            ]
          },
          "metadata": {},
          "execution_count": 74
        }
      ]
    },
    {
      "cell_type": "code",
      "source": [
        "np.argmax(model.predict(img))"
      ],
      "metadata": {
        "colab": {
          "base_uri": "https://localhost:8080/"
        },
        "id": "n0FOWlXD0vob",
        "outputId": "cf515234-0d4e-4e29-f264-a9d5b7518386"
      },
      "execution_count": 75,
      "outputs": [
        {
          "output_type": "stream",
          "name": "stdout",
          "text": [
            "1/1 [==============================] - 0s 103ms/step\n"
          ]
        },
        {
          "output_type": "execute_result",
          "data": {
            "text/plain": [
              "0"
            ]
          },
          "metadata": {},
          "execution_count": 75
        }
      ]
    },
    {
      "cell_type": "code",
      "source": [
        "img_1=image.load_img(\"/content/9451607643d1cd9c4570cdb1c48593_jumbo.jpeg\",target_size=(120,120))\n",
        "img_1=image.img_to_array(img_1)\n",
        "img_1=np.expand_dims(img_1,axis=0)\n",
        "img_1"
      ],
      "metadata": {
        "colab": {
          "base_uri": "https://localhost:8080/"
        },
        "id": "WUafZzw70vlr",
        "outputId": "b48bfa20-7c9e-4978-a642-2e1bc75f9b0a"
      },
      "execution_count": 80,
      "outputs": [
        {
          "output_type": "execute_result",
          "data": {
            "text/plain": [
              "array([[[[234., 234., 234.],\n",
              "         [229., 229., 229.],\n",
              "         [228., 228., 228.],\n",
              "         ...,\n",
              "         [  4.,   4.,   4.],\n",
              "         [ 10.,  10.,  10.],\n",
              "         [  1.,   1.,   1.]],\n",
              "\n",
              "        [[240., 240., 240.],\n",
              "         [233., 233., 233.],\n",
              "         [232., 232., 232.],\n",
              "         ...,\n",
              "         [  6.,   6.,   6.],\n",
              "         [  2.,   2.,   2.],\n",
              "         [  1.,   1.,   1.]],\n",
              "\n",
              "        [[237., 237., 237.],\n",
              "         [229., 229., 229.],\n",
              "         [228., 228., 228.],\n",
              "         ...,\n",
              "         [  4.,   4.,   4.],\n",
              "         [  1.,   1.,   1.],\n",
              "         [  1.,   1.,   1.]],\n",
              "\n",
              "        ...,\n",
              "\n",
              "        [[255., 255., 253.],\n",
              "         [255., 255., 255.],\n",
              "         [255., 255., 255.],\n",
              "         ...,\n",
              "         [255., 255., 255.],\n",
              "         [255., 255., 255.],\n",
              "         [255., 255., 255.]],\n",
              "\n",
              "        [[254., 254., 252.],\n",
              "         [255., 255., 255.],\n",
              "         [255., 255., 255.],\n",
              "         ...,\n",
              "         [255., 255., 255.],\n",
              "         [255., 255., 255.],\n",
              "         [255., 255., 255.]],\n",
              "\n",
              "        [[254., 254., 252.],\n",
              "         [255., 255., 255.],\n",
              "         [255., 255., 255.],\n",
              "         ...,\n",
              "         [255., 255., 255.],\n",
              "         [255., 255., 255.],\n",
              "         [255., 255., 255.]]]], dtype=float32)"
            ]
          },
          "metadata": {},
          "execution_count": 80
        }
      ]
    },
    {
      "cell_type": "code",
      "source": [
        "np.argmax(model.predict(img_1))"
      ],
      "metadata": {
        "colab": {
          "base_uri": "https://localhost:8080/"
        },
        "id": "Bkrst4vm4Fke",
        "outputId": "9be7052b-5d3d-4bcc-9629-dc7540346f41"
      },
      "execution_count": 81,
      "outputs": [
        {
          "output_type": "stream",
          "name": "stdout",
          "text": [
            "1/1 [==============================] - 0s 20ms/step\n"
          ]
        },
        {
          "output_type": "execute_result",
          "data": {
            "text/plain": [
              "0"
            ]
          },
          "metadata": {},
          "execution_count": 81
        }
      ]
    },
    {
      "cell_type": "code",
      "source": [
        "model = Sequential()\n",
        "model.add(Convolution2D(20,(3,3),activation='relu'))\n",
        "model.add(MaxPooling2D(pool_size=(2,2)))\n",
        "model.add(Convolution2D(40,(3,3),activation='relu'))\n",
        "model.add(MaxPooling2D(pool_size=(2,2)))\n",
        "model.add(Convolution2D(50,(3,3),activation='relu'))\n",
        "model.add(MaxPooling2D(pool_size=(2,2)))\n",
        "model.add(Convolution2D(60,(3,3),activation='relu'))\n",
        "model.add(MaxPooling2D(pool_size=(2,2)))\n",
        "model.add(Flatten())\n",
        "model.add(Dense(45,activation='relu'))\n",
        "model.add(Dense(55,activation='relu'))\n",
        "model.add(Dense(65,activation='relu'))\n",
        "model.add(Dense(2,activation='softmax'))"
      ],
      "metadata": {
        "id": "wUDPsAzc8iHS"
      },
      "execution_count": 82,
      "outputs": []
    },
    {
      "cell_type": "code",
      "source": [
        "model.compile(optimizer=\"adam\", loss=\"categorical_crossentropy\", metrics=[\"accuracy\"])\n",
        ""
      ],
      "metadata": {
        "id": "rH5iV1Ec8iEa"
      },
      "execution_count": 83,
      "outputs": []
    },
    {
      "cell_type": "code",
      "source": [
        "model.fit(train,batch_size=8,validation_data=test,epochs=4)\n"
      ],
      "metadata": {
        "colab": {
          "base_uri": "https://localhost:8080/"
        },
        "id": "vz4mvXhc8iBd",
        "outputId": "c3e64747-c5b0-4cee-a2c7-bd6b010bc1c2"
      },
      "execution_count": 84,
      "outputs": [
        {
          "output_type": "stream",
          "name": "stdout",
          "text": [
            "Epoch 1/4\n",
            "652/652 [==============================] - 88s 129ms/step - loss: 0.3434 - accuracy: 0.8530 - val_loss: 1.1156 - val_accuracy: 0.7404\n",
            "Epoch 2/4\n",
            "652/652 [==============================] - 83s 127ms/step - loss: 0.1591 - accuracy: 0.9411 - val_loss: 1.0057 - val_accuracy: 0.7051\n",
            "Epoch 3/4\n",
            "652/652 [==============================] - 83s 127ms/step - loss: 0.1251 - accuracy: 0.9486 - val_loss: 1.3512 - val_accuracy: 0.7035\n",
            "Epoch 4/4\n",
            "652/652 [==============================] - 84s 129ms/step - loss: 0.1092 - accuracy: 0.9574 - val_loss: 1.1883 - val_accuracy: 0.7356\n"
          ]
        },
        {
          "output_type": "execute_result",
          "data": {
            "text/plain": [
              "<keras.callbacks.History at 0x7f31d7869f60>"
            ]
          },
          "metadata": {},
          "execution_count": 84
        }
      ]
    },
    {
      "cell_type": "code",
      "source": [
        "img3=image.load_img(\"/content/9451607643d1cd9c4570cdb1c48593_jumbo.jpeg\",target_size=(120,120))\n",
        "img3=image.img_to_array(img3)\n",
        "img3=np.expand_dims(img3,axis=0)\n",
        "img3"
      ],
      "metadata": {
        "colab": {
          "base_uri": "https://localhost:8080/"
        },
        "id": "27HKU8T18h-k",
        "outputId": "768b40ba-7f1c-4e97-b7ac-22543102fc4b"
      },
      "execution_count": 88,
      "outputs": [
        {
          "output_type": "execute_result",
          "data": {
            "text/plain": [
              "array([[[[234., 234., 234.],\n",
              "         [229., 229., 229.],\n",
              "         [228., 228., 228.],\n",
              "         ...,\n",
              "         [  4.,   4.,   4.],\n",
              "         [ 10.,  10.,  10.],\n",
              "         [  1.,   1.,   1.]],\n",
              "\n",
              "        [[240., 240., 240.],\n",
              "         [233., 233., 233.],\n",
              "         [232., 232., 232.],\n",
              "         ...,\n",
              "         [  6.,   6.,   6.],\n",
              "         [  2.,   2.,   2.],\n",
              "         [  1.,   1.,   1.]],\n",
              "\n",
              "        [[237., 237., 237.],\n",
              "         [229., 229., 229.],\n",
              "         [228., 228., 228.],\n",
              "         ...,\n",
              "         [  4.,   4.,   4.],\n",
              "         [  1.,   1.,   1.],\n",
              "         [  1.,   1.,   1.]],\n",
              "\n",
              "        ...,\n",
              "\n",
              "        [[255., 255., 253.],\n",
              "         [255., 255., 255.],\n",
              "         [255., 255., 255.],\n",
              "         ...,\n",
              "         [255., 255., 255.],\n",
              "         [255., 255., 255.],\n",
              "         [255., 255., 255.]],\n",
              "\n",
              "        [[254., 254., 252.],\n",
              "         [255., 255., 255.],\n",
              "         [255., 255., 255.],\n",
              "         ...,\n",
              "         [255., 255., 255.],\n",
              "         [255., 255., 255.],\n",
              "         [255., 255., 255.]],\n",
              "\n",
              "        [[254., 254., 252.],\n",
              "         [255., 255., 255.],\n",
              "         [255., 255., 255.],\n",
              "         ...,\n",
              "         [255., 255., 255.],\n",
              "         [255., 255., 255.],\n",
              "         [255., 255., 255.]]]], dtype=float32)"
            ]
          },
          "metadata": {},
          "execution_count": 88
        }
      ]
    },
    {
      "cell_type": "code",
      "source": [
        "np.argmax(model.predict(img3))"
      ],
      "metadata": {
        "colab": {
          "base_uri": "https://localhost:8080/"
        },
        "id": "9ZHx8kNR8h8a",
        "outputId": "e46809ce-edf0-4c78-a1e2-6d4c673e8e0f"
      },
      "execution_count": 89,
      "outputs": [
        {
          "output_type": "stream",
          "name": "stdout",
          "text": [
            "1/1 [==============================] - 0s 18ms/step\n"
          ]
        },
        {
          "output_type": "execute_result",
          "data": {
            "text/plain": [
              "1"
            ]
          },
          "metadata": {},
          "execution_count": 89
        }
      ]
    },
    {
      "cell_type": "code",
      "source": [
        "from tensorflow.keras.layers import BatchNormalization,Dropout"
      ],
      "metadata": {
        "id": "5bweQ1oO8h5r"
      },
      "execution_count": 90,
      "outputs": []
    },
    {
      "cell_type": "code",
      "source": [
        "model = Sequential()\n",
        "model.add(Convolution2D(20,(3,3),activation='relu'))\n",
        "model.add(BatchNormalization())\n",
        "model.add(MaxPooling2D(pool_size=(2,2)))\n",
        "model.add(Dropout(0.2))#values mention o to 1\n",
        "model.add(Convolution2D(40,(3,3),activation='relu'))\n",
        "model.add(BatchNormalization())\n",
        "model.add(MaxPooling2D(pool_size=(2,2)))\n",
        "model.add(Dropout(0.2))#values mention o to 1\n",
        "model.add(Convolution2D(50,(3,3),activation='relu'))\n",
        "model.add(BatchNormalization())\n",
        "model.add(MaxPooling2D(pool_size=(2,2)))\n",
        "model.add(Dropout(0.2))#values mention o to 1\n",
        "model.add(Convolution2D(60,(3,3),activation='relu'))\n",
        "model.add(BatchNormalization())\n",
        "model.add(MaxPooling2D(pool_size=(2,2)))\n",
        "model.add(Dropout(0.2))#values mention o to 1\n",
        "model.add(Flatten())\n",
        "model.add(Dense(45,activation='relu'))\n",
        "model.add(BatchNormalization())\n",
        "model.add(Dropout(0.1))\n",
        "model.add(Dense(55,activation='relu'))\n",
        "model.add(Dense(65,activation='relu'))\n",
        "model.add(Dense(2,activation='softmax'))"
      ],
      "metadata": {
        "id": "CyeVoqxz8h0Z"
      },
      "execution_count": 92,
      "outputs": []
    },
    {
      "cell_type": "code",
      "source": [
        "model.compile(optimizer=\"adam\", loss=\"categorical_crossentropy\", metrics=[\"accuracy\"])\n",
        ""
      ],
      "metadata": {
        "id": "7qDEm_ejCPKZ"
      },
      "execution_count": 93,
      "outputs": []
    },
    {
      "cell_type": "code",
      "source": [
        "#early stopping\n",
        "from tensorflow.keras.callbacks import EarlyStopping\n",
        "early_stop=EarlyStopping(monitor=\"accuracy\",patience=4)"
      ],
      "metadata": {
        "id": "1mpfdARaDd0f"
      },
      "execution_count": 99,
      "outputs": []
    },
    {
      "cell_type": "code",
      "source": [],
      "metadata": {
        "id": "hKiRCyM0Dnhy"
      },
      "execution_count": null,
      "outputs": []
    },
    {
      "cell_type": "code",
      "source": [
        "model.fit(train,batch_size=8,validation_data=test,epochs=7,callbacks=early_stop)\n"
      ],
      "metadata": {
        "colab": {
          "base_uri": "https://localhost:8080/"
        },
        "id": "tgHsoOkJCSoa",
        "outputId": "b69943e9-fb1c-46fe-c003-54494634c12e"
      },
      "execution_count": 100,
      "outputs": [
        {
          "output_type": "stream",
          "name": "stdout",
          "text": [
            "Epoch 1/7\n",
            "652/652 [==============================] - 88s 134ms/step - loss: 0.1406 - accuracy: 0.9482 - val_loss: 0.4173 - val_accuracy: 0.8462\n",
            "Epoch 2/7\n",
            "652/652 [==============================] - 89s 136ms/step - loss: 0.1385 - accuracy: 0.9492 - val_loss: 1.2634 - val_accuracy: 0.6458\n",
            "Epoch 3/7\n",
            "652/652 [==============================] - 82s 126ms/step - loss: 0.1345 - accuracy: 0.9511 - val_loss: 1.2117 - val_accuracy: 0.7019\n",
            "Epoch 4/7\n",
            "652/652 [==============================] - 84s 128ms/step - loss: 0.1333 - accuracy: 0.9542 - val_loss: 0.9967 - val_accuracy: 0.7228\n",
            "Epoch 5/7\n",
            "652/652 [==============================] - 82s 126ms/step - loss: 0.1134 - accuracy: 0.9578 - val_loss: 0.3665 - val_accuracy: 0.8686\n",
            "Epoch 6/7\n",
            "652/652 [==============================] - 161s 247ms/step - loss: 0.1183 - accuracy: 0.9572 - val_loss: 0.8561 - val_accuracy: 0.6907\n",
            "Epoch 7/7\n",
            "652/652 [==============================] - 86s 131ms/step - loss: 0.1171 - accuracy: 0.9553 - val_loss: 0.8870 - val_accuracy: 0.7372\n"
          ]
        },
        {
          "output_type": "execute_result",
          "data": {
            "text/plain": [
              "<keras.callbacks.History at 0x7f31c0bc5d20>"
            ]
          },
          "metadata": {},
          "execution_count": 100
        }
      ]
    },
    {
      "cell_type": "code",
      "source": [
        "img4=image.load_img(\"/content/test.jpg\",target_size=(120,120))\n",
        "img4=image.img_to_array(img4)\n",
        "img4=np.expand_dims(img4,axis=0)\n",
        "img4\n",
        "np.argmax(model.predict(img4))"
      ],
      "metadata": {
        "colab": {
          "base_uri": "https://localhost:8080/"
        },
        "id": "pqvdB9YfIzYb",
        "outputId": "933e10d1-44e5-4696-e592-55eedc8fb1ea"
      },
      "execution_count": 101,
      "outputs": [
        {
          "output_type": "stream",
          "name": "stdout",
          "text": [
            "1/1 [==============================] - 0s 159ms/step\n"
          ]
        },
        {
          "output_type": "execute_result",
          "data": {
            "text/plain": [
              "1"
            ]
          },
          "metadata": {},
          "execution_count": 101
        }
      ]
    }
  ]
}