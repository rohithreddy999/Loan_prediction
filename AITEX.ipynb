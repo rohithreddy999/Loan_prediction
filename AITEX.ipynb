{
  "nbformat": 4,
  "nbformat_minor": 0,
  "metadata": {
    "colab": {
      "provenance": [],
      "gpuType": "T4",
      "authorship_tag": "ABX9TyP4XlQT141EqGzLPpqxASWw",
      "include_colab_link": true
    },
    "kernelspec": {
      "name": "python3",
      "display_name": "Python 3"
    },
    "language_info": {
      "name": "python"
    },
    "accelerator": "GPU"
  },
  "cells": [
    {
      "cell_type": "markdown",
      "metadata": {
        "id": "view-in-github",
        "colab_type": "text"
      },
      "source": [
        "<a href=\"https://colab.research.google.com/github/rohithreddy999/Machine_learning-AI-predictions/blob/main/AITEX.ipynb\" target=\"_parent\"><img src=\"https://colab.research.google.com/assets/colab-badge.svg\" alt=\"Open In Colab\"/></a>"
      ]
    },
    {
      "cell_type": "code",
      "source": [
        "from google.colab import drive\n",
        "drive.mount('/content/drive')"
      ],
      "metadata": {
        "colab": {
          "base_uri": "https://localhost:8080/"
        },
        "id": "KJhZw59-O7ON",
        "outputId": "4a70dfdb-f38e-4098-e54f-ba493293a250"
      },
      "execution_count": 1,
      "outputs": [
        {
          "output_type": "stream",
          "name": "stdout",
          "text": [
            "Mounted at /content/drive\n"
          ]
        }
      ]
    },
    {
      "cell_type": "code",
      "source": [
        "from tensorflow.keras.layers import Dense,Flatten,Input\n",
        "from tensorflow.keras.models import Model\n",
        "from tensorflow.keras.preprocessing import image\n",
        "from tensorflow.keras.preprocessing.image import ImageDataGenerator, load_img\n",
        "import numpy as np"
      ],
      "metadata": {
        "id": "7NVp-II-PGrl"
      },
      "execution_count": 2,
      "outputs": []
    },
    {
      "cell_type": "code",
      "source": [
        "base_dir=\"/content/drive/MyDrive/ATRIX/ATIZ IMAGES\"\n",
        ""
      ],
      "metadata": {
        "id": "EglI-2gvPHMI"
      },
      "execution_count": 3,
      "outputs": []
    },
    {
      "cell_type": "code",
      "source": [
        "\n",
        "train_gen = ImageDataGenerator(rescale=1./255,\n",
        "    shear_range=0.2,\n",
        "    zoom_range=0.2,\n",
        "    horizontal_flip=True,\n",
        "    validation_split=0.2)\n",
        "\n",
        "train = train_gen.flow_from_directory(\n",
        "    base_dir,\n",
        "    target_size=(224,224),\n",
        "    batch_size= 32,\n",
        "    class_mode='categorical',\n",
        "    subset='training')\n",
        "\n",
        "validation_gen = train_gen.flow_from_directory(\n",
        "    base_dir,\n",
        "    target_size=(224, 224),\n",
        "    batch_size= 32,\n",
        "    class_mode='categorical',\n",
        "    subset='validation')"
      ],
      "metadata": {
        "colab": {
          "base_uri": "https://localhost:8080/"
        },
        "id": "oGA3KSpvPU-2",
        "outputId": "8f4377f9-698c-44c5-c605-c098c3ac8332"
      },
      "execution_count": 4,
      "outputs": [
        {
          "output_type": "stream",
          "name": "stdout",
          "text": [
            "Found 284 images belonging to 3 classes.\n",
            "Found 70 images belonging to 3 classes.\n"
          ]
        }
      ]
    },
    {
      "cell_type": "markdown",
      "source": [
        "**VGG16**"
      ],
      "metadata": {
        "id": "ImRZWax6RvWt"
      }
    },
    {
      "cell_type": "code",
      "source": [
        "from tensorflow.keras.applications.vgg16 import VGG16, preprocess_input\n",
        "# Adding the preprocessing layer to the front of vgg\n",
        "vgg = VGG16(include_top=False,weights='imagenet',input_shape=(224,224,3))"
      ],
      "metadata": {
        "colab": {
          "base_uri": "https://localhost:8080/"
        },
        "id": "4odnam9RPYdZ",
        "outputId": "e1b44350-365f-41f1-ad6a-1421a9d412e4"
      },
      "execution_count": 5,
      "outputs": [
        {
          "output_type": "stream",
          "name": "stdout",
          "text": [
            "Downloading data from https://storage.googleapis.com/tensorflow/keras-applications/vgg16/vgg16_weights_tf_dim_ordering_tf_kernels_notop.h5\n",
            "58889256/58889256 [==============================] - 4s 0us/step\n"
          ]
        }
      ]
    },
    {
      "cell_type": "code",
      "source": [
        "# Train model with existing weights\n",
        "for layer in vgg.layers:\n",
        "  print(layer)"
      ],
      "metadata": {
        "colab": {
          "base_uri": "https://localhost:8080/"
        },
        "id": "wQzyIecqPs5Z",
        "outputId": "b582d144-a864-49c1-bd68-6dc8e30fe495"
      },
      "execution_count": 6,
      "outputs": [
        {
          "output_type": "stream",
          "name": "stdout",
          "text": [
            "<keras.engine.input_layer.InputLayer object at 0x7f89a9beb0d0>\n",
            "<keras.layers.convolutional.conv2d.Conv2D object at 0x7f891f088250>\n",
            "<keras.layers.convolutional.conv2d.Conv2D object at 0x7f891f0889a0>\n",
            "<keras.layers.pooling.max_pooling2d.MaxPooling2D object at 0x7f891f089780>\n",
            "<keras.layers.convolutional.conv2d.Conv2D object at 0x7f891f08a0e0>\n",
            "<keras.layers.convolutional.conv2d.Conv2D object at 0x7f891f08add0>\n",
            "<keras.layers.pooling.max_pooling2d.MaxPooling2D object at 0x7f891f08be50>\n",
            "<keras.layers.convolutional.conv2d.Conv2D object at 0x7f891f08a4d0>\n",
            "<keras.layers.convolutional.conv2d.Conv2D object at 0x7f891ef60d90>\n",
            "<keras.layers.convolutional.conv2d.Conv2D object at 0x7f891ef61db0>\n",
            "<keras.layers.pooling.max_pooling2d.MaxPooling2D object at 0x7f891ef61150>\n",
            "<keras.layers.convolutional.conv2d.Conv2D object at 0x7f891ef63070>\n",
            "<keras.layers.convolutional.conv2d.Conv2D object at 0x7f891ef63d60>\n",
            "<keras.layers.convolutional.conv2d.Conv2D object at 0x7f891ef60f10>\n",
            "<keras.layers.pooling.max_pooling2d.MaxPooling2D object at 0x7f891ef5d420>\n",
            "<keras.layers.convolutional.conv2d.Conv2D object at 0x7f891ef5e0b0>\n",
            "<keras.layers.convolutional.conv2d.Conv2D object at 0x7f891ef5eda0>\n",
            "<keras.layers.convolutional.conv2d.Conv2D object at 0x7f891ef5cee0>\n",
            "<keras.layers.pooling.max_pooling2d.MaxPooling2D object at 0x7f891ef5fd60>\n"
          ]
        }
      ]
    },
    {
      "cell_type": "code",
      "source": [
        "# Train model with existing weights\n",
        "for layer in vgg.layers:\n",
        "  layer.trainable=False\n",
        "x = Flatten()(vgg.output)"
      ],
      "metadata": {
        "id": "-YyHhll3QFNq"
      },
      "execution_count": 7,
      "outputs": []
    },
    {
      "cell_type": "code",
      "source": [
        "# output layer\n",
        "prediction = Dense(3,activation='softmax')(x)\n",
        "# Create Vgg16 model\n",
        "model = Model(inputs=vgg.input,outputs=prediction)"
      ],
      "metadata": {
        "id": "GkW0C0zDQHla"
      },
      "execution_count": 8,
      "outputs": []
    },
    {
      "cell_type": "code",
      "source": [
        "model.compile(loss='categorical_crossentropy',optimizer='adam',metrics=['accuracy'])"
      ],
      "metadata": {
        "id": "uZwmNTLFQHh2"
      },
      "execution_count": 9,
      "outputs": []
    },
    {
      "cell_type": "code",
      "source": [
        "model.fit_generator(train,validation_data=validation_gen,epochs=10,steps_per_epoch=len(train),\n",
        "                    validation_steps=len(validation_gen))"
      ],
      "metadata": {
        "colab": {
          "base_uri": "https://localhost:8080/"
        },
        "id": "ZlAJwxe6QHSR",
        "outputId": "af83e9eb-3b6f-47be-d360-86a2e3b2dd67"
      },
      "execution_count": 10,
      "outputs": [
        {
          "output_type": "stream",
          "name": "stderr",
          "text": [
            "<ipython-input-10-3b4b868b8d22>:1: UserWarning: `Model.fit_generator` is deprecated and will be removed in a future version. Please use `Model.fit`, which supports generators.\n",
            "  model.fit_generator(train,validation_data=validation_gen,epochs=10,steps_per_epoch=len(train),\n"
          ]
        },
        {
          "output_type": "stream",
          "name": "stdout",
          "text": [
            "Epoch 1/10\n",
            "9/9 [==============================] - 178s 18s/step - loss: 0.9051 - accuracy: 0.6021 - val_loss: 0.7186 - val_accuracy: 0.6000\n",
            "Epoch 2/10\n",
            "9/9 [==============================] - 8s 959ms/step - loss: 0.5250 - accuracy: 0.7218 - val_loss: 0.6767 - val_accuracy: 0.6000\n",
            "Epoch 3/10\n",
            "9/9 [==============================] - 8s 868ms/step - loss: 0.5047 - accuracy: 0.7430 - val_loss: 0.8225 - val_accuracy: 0.6000\n",
            "Epoch 4/10\n",
            "9/9 [==============================] - 8s 949ms/step - loss: 0.5062 - accuracy: 0.7394 - val_loss: 0.5067 - val_accuracy: 0.6571\n",
            "Epoch 5/10\n",
            "9/9 [==============================] - 8s 804ms/step - loss: 0.3694 - accuracy: 0.8134 - val_loss: 0.3960 - val_accuracy: 0.8143\n",
            "Epoch 6/10\n",
            "9/9 [==============================] - 8s 954ms/step - loss: 0.3615 - accuracy: 0.8204 - val_loss: 0.3714 - val_accuracy: 0.8714\n",
            "Epoch 7/10\n",
            "9/9 [==============================] - 7s 813ms/step - loss: 0.3505 - accuracy: 0.8275 - val_loss: 0.4096 - val_accuracy: 0.6857\n",
            "Epoch 8/10\n",
            "9/9 [==============================] - 7s 794ms/step - loss: 0.3133 - accuracy: 0.8275 - val_loss: 0.4562 - val_accuracy: 0.6857\n",
            "Epoch 9/10\n",
            "9/9 [==============================] - 8s 947ms/step - loss: 0.3244 - accuracy: 0.8310 - val_loss: 0.4218 - val_accuracy: 0.7286\n",
            "Epoch 10/10\n",
            "9/9 [==============================] - 7s 805ms/step - loss: 0.3035 - accuracy: 0.8521 - val_loss: 0.3300 - val_accuracy: 0.8714\n"
          ]
        },
        {
          "output_type": "execute_result",
          "data": {
            "text/plain": [
              "<keras.callbacks.History at 0x7f891c4a13c0>"
            ]
          },
          "metadata": {},
          "execution_count": 10
        }
      ]
    },
    {
      "cell_type": "code",
      "source": [
        "train.class_indices"
      ],
      "metadata": {
        "colab": {
          "base_uri": "https://localhost:8080/"
        },
        "id": "3D4ENRWAQr-h",
        "outputId": "d964cb6c-e96d-4bdd-95e7-ffa71f4a1ff5"
      },
      "execution_count": 12,
      "outputs": [
        {
          "output_type": "execute_result",
          "data": {
            "text/plain": [
              "{'Defect_images': 0, 'Mask_images': 1, 'NODefect_images': 2}"
            ]
          },
          "metadata": {},
          "execution_count": 12
        }
      ]
    },
    {
      "cell_type": "code",
      "source": [
        "img1=image.load_img(\"/content/download.jpg\",target_size=(224,224,3))\n",
        "img1=image.img_to_array(img1)\n",
        "img1=np.expand_dims(img1,axis=0)\n",
        "img1\n",
        "np.argmax(model.predict(img1))"
      ],
      "metadata": {
        "colab": {
          "base_uri": "https://localhost:8080/"
        },
        "id": "AgOMETHmUJZB",
        "outputId": "d9af5c7a-6b29-41d4-831e-f01f21815897"
      },
      "execution_count": 27,
      "outputs": [
        {
          "output_type": "stream",
          "name": "stdout",
          "text": [
            "1/1 [==============================] - 1s 741ms/step\n"
          ]
        },
        {
          "output_type": "execute_result",
          "data": {
            "text/plain": [
              "0"
            ]
          },
          "metadata": {},
          "execution_count": 27
        }
      ]
    },
    {
      "cell_type": "markdown",
      "source": [
        "**RESNET50**"
      ],
      "metadata": {
        "id": "CrwPH8hGRs-L"
      }
    },
    {
      "cell_type": "code",
      "source": [
        "#RESNET 50\n",
        "from tensorflow.keras.applications.resnet50 import ResNet50\n",
        "resnet = ResNet50(include_top=False,input_shape=(224,224,3))\n",
        ""
      ],
      "metadata": {
        "colab": {
          "base_uri": "https://localhost:8080/"
        },
        "id": "_xenDWRMRsbc",
        "outputId": "017360a0-6a50-4dbc-c5e6-e3c2f9735f6d"
      },
      "execution_count": 13,
      "outputs": [
        {
          "output_type": "stream",
          "name": "stdout",
          "text": [
            "Downloading data from https://storage.googleapis.com/tensorflow/keras-applications/resnet/resnet50_weights_tf_dim_ordering_tf_kernels_notop.h5\n",
            "94765736/94765736 [==============================] - 5s 0us/step\n"
          ]
        }
      ]
    },
    {
      "cell_type": "code",
      "source": [
        "for layer in resnet.layers:\n",
        "  layer.trainable=False\n",
        "for layer in resnet.layers:\n",
        "  print(layer)"
      ],
      "metadata": {
        "colab": {
          "base_uri": "https://localhost:8080/"
        },
        "id": "vvn85BFoQr8U",
        "outputId": "86a550a9-29b0-4b51-ef91-344d8956d504"
      },
      "execution_count": 14,
      "outputs": [
        {
          "output_type": "stream",
          "name": "stdout",
          "text": [
            "<keras.engine.input_layer.InputLayer object at 0x7f891c0a03d0>\n",
            "<keras.layers.reshaping.zero_padding2d.ZeroPadding2D object at 0x7f891c0a26b0>\n",
            "<keras.layers.convolutional.conv2d.Conv2D object at 0x7f891c0a3e50>\n",
            "<keras.layers.normalization.batch_normalization.BatchNormalization object at 0x7f891c0a3670>\n",
            "<keras.layers.core.activation.Activation object at 0x7f891c0a2d10>\n",
            "<keras.layers.reshaping.zero_padding2d.ZeroPadding2D object at 0x7f891c0a1ed0>\n",
            "<keras.layers.pooling.max_pooling2d.MaxPooling2D object at 0x7f891c0a1b70>\n",
            "<keras.layers.convolutional.conv2d.Conv2D object at 0x7f891c0a3fa0>\n",
            "<keras.layers.normalization.batch_normalization.BatchNormalization object at 0x7f8900e70cd0>\n",
            "<keras.layers.core.activation.Activation object at 0x7f8900e72aa0>\n",
            "<keras.layers.convolutional.conv2d.Conv2D object at 0x7f8900e732e0>\n",
            "<keras.layers.normalization.batch_normalization.BatchNormalization object at 0x7f8900e73b20>\n",
            "<keras.layers.core.activation.Activation object at 0x7f8900e73af0>\n",
            "<keras.layers.convolutional.conv2d.Conv2D object at 0x7f891c063f70>\n",
            "<keras.layers.convolutional.conv2d.Conv2D object at 0x7f8900e85b70>\n",
            "<keras.layers.normalization.batch_normalization.BatchNormalization object at 0x7f891ef77e20>\n",
            "<keras.layers.normalization.batch_normalization.BatchNormalization object at 0x7f8900e86950>\n",
            "<keras.layers.merging.add.Add object at 0x7f8900e86d70>\n",
            "<keras.layers.core.activation.Activation object at 0x7f8900e87f10>\n",
            "<keras.layers.convolutional.conv2d.Conv2D object at 0x7f8900e842b0>\n",
            "<keras.layers.normalization.batch_normalization.BatchNormalization object at 0x7f8900e72050>\n",
            "<keras.layers.core.activation.Activation object at 0x7f891c0a0bb0>\n",
            "<keras.layers.convolutional.conv2d.Conv2D object at 0x7f891ef77fa0>\n",
            "<keras.layers.normalization.batch_normalization.BatchNormalization object at 0x7f8900e993c0>\n",
            "<keras.layers.core.activation.Activation object at 0x7f8900e71bd0>\n",
            "<keras.layers.convolutional.conv2d.Conv2D object at 0x7f8900e9a830>\n",
            "<keras.layers.normalization.batch_normalization.BatchNormalization object at 0x7f8900e9b850>\n",
            "<keras.layers.merging.add.Add object at 0x7f8900e9bc70>\n",
            "<keras.layers.core.activation.Activation object at 0x7f8900e9bbe0>\n",
            "<keras.layers.convolutional.conv2d.Conv2D object at 0x7f8900ead5d0>\n",
            "<keras.layers.normalization.batch_normalization.BatchNormalization object at 0x7f8900eae680>\n",
            "<keras.layers.core.activation.Activation object at 0x7f8900eada80>\n",
            "<keras.layers.convolutional.conv2d.Conv2D object at 0x7f8900eaf4c0>\n",
            "<keras.layers.normalization.batch_normalization.BatchNormalization object at 0x7f8900eafee0>\n",
            "<keras.layers.core.activation.Activation object at 0x7f8900ead930>\n",
            "<keras.layers.convolutional.conv2d.Conv2D object at 0x7f8900ccc1f0>\n",
            "<keras.layers.normalization.batch_normalization.BatchNormalization object at 0x7f8900cceef0>\n",
            "<keras.layers.merging.add.Add object at 0x7f8900ccf310>\n",
            "<keras.layers.core.activation.Activation object at 0x7f8900cce2c0>\n",
            "<keras.layers.convolutional.conv2d.Conv2D object at 0x7f8900cdcf10>\n",
            "<keras.layers.normalization.batch_normalization.BatchNormalization object at 0x7f8900cde740>\n",
            "<keras.layers.core.activation.Activation object at 0x7f8900cdfd60>\n",
            "<keras.layers.convolutional.conv2d.Conv2D object at 0x7f8900cde050>\n",
            "<keras.layers.normalization.batch_normalization.BatchNormalization object at 0x7f8900cdf0a0>\n",
            "<keras.layers.core.activation.Activation object at 0x7f8900cf5f60>\n",
            "<keras.layers.convolutional.conv2d.Conv2D object at 0x7f8900cdcbe0>\n",
            "<keras.layers.convolutional.conv2d.Conv2D object at 0x7f8900cf4c10>\n",
            "<keras.layers.normalization.batch_normalization.BatchNormalization object at 0x7f8900cce6e0>\n",
            "<keras.layers.normalization.batch_normalization.BatchNormalization object at 0x7f8900cf7730>\n",
            "<keras.layers.merging.add.Add object at 0x7f8900cf7b50>\n",
            "<keras.layers.core.activation.Activation object at 0x7f8900d18100>\n",
            "<keras.layers.convolutional.conv2d.Conv2D object at 0x7f8900d192d0>\n",
            "<keras.layers.normalization.batch_normalization.BatchNormalization object at 0x7f8900cf4610>\n",
            "<keras.layers.core.activation.Activation object at 0x7f8900d18eb0>\n",
            "<keras.layers.convolutional.conv2d.Conv2D object at 0x7f8900d1a890>\n",
            "<keras.layers.normalization.batch_normalization.BatchNormalization object at 0x7f8900d1b0d0>\n",
            "<keras.layers.core.activation.Activation object at 0x7f8900d18e20>\n",
            "<keras.layers.convolutional.conv2d.Conv2D object at 0x7f8900cf6950>\n",
            "<keras.layers.normalization.batch_normalization.BatchNormalization object at 0x7f8900cdd750>\n",
            "<keras.layers.merging.add.Add object at 0x7f8900cdfdf0>\n",
            "<keras.layers.core.activation.Activation object at 0x7f8900ccd5d0>\n",
            "<keras.layers.convolutional.conv2d.Conv2D object at 0x7f891ef76080>\n",
            "<keras.layers.normalization.batch_normalization.BatchNormalization object at 0x7f8900cccdf0>\n",
            "<keras.layers.core.activation.Activation object at 0x7f8900e84880>\n",
            "<keras.layers.convolutional.conv2d.Conv2D object at 0x7f8900e9b400>\n",
            "<keras.layers.normalization.batch_normalization.BatchNormalization object at 0x7f8900d31f00>\n",
            "<keras.layers.core.activation.Activation object at 0x7f8900d32440>\n",
            "<keras.layers.convolutional.conv2d.Conv2D object at 0x7f8900d32c80>\n",
            "<keras.layers.normalization.batch_normalization.BatchNormalization object at 0x7f8900d32d10>\n",
            "<keras.layers.merging.add.Add object at 0x7f8900d321a0>\n",
            "<keras.layers.core.activation.Activation object at 0x7f8900d33e50>\n",
            "<keras.layers.convolutional.conv2d.Conv2D object at 0x7f8900d397e0>\n",
            "<keras.layers.normalization.batch_normalization.BatchNormalization object at 0x7f8900d384c0>\n",
            "<keras.layers.core.activation.Activation object at 0x7f8900d3ad40>\n",
            "<keras.layers.convolutional.conv2d.Conv2D object at 0x7f8900d3b580>\n",
            "<keras.layers.normalization.batch_normalization.BatchNormalization object at 0x7f8900d3bdc0>\n",
            "<keras.layers.core.activation.Activation object at 0x7f8900d3be20>\n",
            "<keras.layers.convolutional.conv2d.Conv2D object at 0x7f8900d51a20>\n",
            "<keras.layers.normalization.batch_normalization.BatchNormalization object at 0x7f8900d52800>\n",
            "<keras.layers.merging.add.Add object at 0x7f8900d52c20>\n",
            "<keras.layers.core.activation.Activation object at 0x7f8900ccc8e0>\n",
            "<keras.layers.convolutional.conv2d.Conv2D object at 0x7f8900d525c0>\n",
            "<keras.layers.normalization.batch_normalization.BatchNormalization object at 0x7f8900d517e0>\n",
            "<keras.layers.core.activation.Activation object at 0x7f8900d52560>\n",
            "<keras.layers.convolutional.conv2d.Conv2D object at 0x7f8900d65480>\n",
            "<keras.layers.normalization.batch_normalization.BatchNormalization object at 0x7f8900d67e80>\n",
            "<keras.layers.core.activation.Activation object at 0x7f8900d670d0>\n",
            "<keras.layers.convolutional.conv2d.Conv2D object at 0x7f8900d51870>\n",
            "<keras.layers.convolutional.conv2d.Conv2D object at 0x7f8900d80460>\n",
            "<keras.layers.normalization.batch_normalization.BatchNormalization object at 0x7f8900d657e0>\n",
            "<keras.layers.normalization.batch_normalization.BatchNormalization object at 0x7f8900d827a0>\n",
            "<keras.layers.merging.add.Add object at 0x7f8900d66cb0>\n",
            "<keras.layers.core.activation.Activation object at 0x7f8900d65e40>\n",
            "<keras.layers.convolutional.conv2d.Conv2D object at 0x7f8900d65420>\n",
            "<keras.layers.normalization.batch_normalization.BatchNormalization object at 0x7f8900d50bb0>\n",
            "<keras.layers.core.activation.Activation object at 0x7f891c0a0b80>\n",
            "<keras.layers.convolutional.conv2d.Conv2D object at 0x7f8900d38b50>\n",
            "<keras.layers.normalization.batch_normalization.BatchNormalization object at 0x7f8900d31570>\n",
            "<keras.layers.core.activation.Activation object at 0x7f8900d67040>\n",
            "<keras.layers.convolutional.conv2d.Conv2D object at 0x7f8900d32b60>\n",
            "<keras.layers.normalization.batch_normalization.BatchNormalization object at 0x7f8900ccf790>\n",
            "<keras.layers.merging.add.Add object at 0x7f8900d31630>\n",
            "<keras.layers.core.activation.Activation object at 0x7f8900d83460>\n",
            "<keras.layers.convolutional.conv2d.Conv2D object at 0x7f8900d80340>\n",
            "<keras.layers.normalization.batch_normalization.BatchNormalization object at 0x7f8900da1ab0>\n",
            "<keras.layers.core.activation.Activation object at 0x7f8900d80f10>\n",
            "<keras.layers.convolutional.conv2d.Conv2D object at 0x7f8900da1870>\n",
            "<keras.layers.normalization.batch_normalization.BatchNormalization object at 0x7f8900da3310>\n",
            "<keras.layers.core.activation.Activation object at 0x7f8900da3790>\n",
            "<keras.layers.convolutional.conv2d.Conv2D object at 0x7f8900da3f40>\n",
            "<keras.layers.normalization.batch_normalization.BatchNormalization object at 0x7f8900da2e60>\n",
            "<keras.layers.merging.add.Add object at 0x7f8900da2f20>\n",
            "<keras.layers.core.activation.Activation object at 0x7f8900db8040>\n",
            "<keras.layers.convolutional.conv2d.Conv2D object at 0x7f8900dba320>\n",
            "<keras.layers.normalization.batch_normalization.BatchNormalization object at 0x7f8900dbb3d0>\n",
            "<keras.layers.core.activation.Activation object at 0x7f8900dba530>\n",
            "<keras.layers.convolutional.conv2d.Conv2D object at 0x7f8900dbba90>\n",
            "<keras.layers.normalization.batch_normalization.BatchNormalization object at 0x7f8900db88b0>\n",
            "<keras.layers.core.activation.Activation object at 0x7f8900db9b40>\n",
            "<keras.layers.convolutional.conv2d.Conv2D object at 0x7f89003558d0>\n",
            "<keras.layers.normalization.batch_normalization.BatchNormalization object at 0x7f8900356920>\n",
            "<keras.layers.merging.add.Add object at 0x7f8900355960>\n",
            "<keras.layers.core.activation.Activation object at 0x7f89003565c0>\n",
            "<keras.layers.convolutional.conv2d.Conv2D object at 0x7f89003575e0>\n",
            "<keras.layers.normalization.batch_normalization.BatchNormalization object at 0x7f8900357af0>\n",
            "<keras.layers.core.activation.Activation object at 0x7f8900357fd0>\n",
            "<keras.layers.convolutional.conv2d.Conv2D object at 0x7f8900378dc0>\n",
            "<keras.layers.normalization.batch_normalization.BatchNormalization object at 0x7f890037ab90>\n",
            "<keras.layers.core.activation.Activation object at 0x7f890037b3a0>\n",
            "<keras.layers.convolutional.conv2d.Conv2D object at 0x7f8900379f60>\n",
            "<keras.layers.normalization.batch_normalization.BatchNormalization object at 0x7f890037b5b0>\n",
            "<keras.layers.merging.add.Add object at 0x7f8900cdcfa0>\n",
            "<keras.layers.core.activation.Activation object at 0x7f89003789d0>\n",
            "<keras.layers.convolutional.conv2d.Conv2D object at 0x7f8900379fc0>\n",
            "<keras.layers.normalization.batch_normalization.BatchNormalization object at 0x7f89003552a0>\n",
            "<keras.layers.core.activation.Activation object at 0x7f8900354070>\n",
            "<keras.layers.convolutional.conv2d.Conv2D object at 0x7f8900378850>\n",
            "<keras.layers.normalization.batch_normalization.BatchNormalization object at 0x7f8900db87c0>\n",
            "<keras.layers.core.activation.Activation object at 0x7f890037a8f0>\n",
            "<keras.layers.convolutional.conv2d.Conv2D object at 0x7f8900357f70>\n",
            "<keras.layers.normalization.batch_normalization.BatchNormalization object at 0x7f8900d336a0>\n",
            "<keras.layers.merging.add.Add object at 0x7f8900d67070>\n",
            "<keras.layers.core.activation.Activation object at 0x7f890037b2e0>\n",
            "<keras.layers.convolutional.conv2d.Conv2D object at 0x7f8900d80220>\n",
            "<keras.layers.normalization.batch_normalization.BatchNormalization object at 0x7f890039ec20>\n",
            "<keras.layers.core.activation.Activation object at 0x7f890039efb0>\n",
            "<keras.layers.convolutional.conv2d.Conv2D object at 0x7f890039fa90>\n",
            "<keras.layers.normalization.batch_normalization.BatchNormalization object at 0x7f890039e8f0>\n",
            "<keras.layers.core.activation.Activation object at 0x7f890039e950>\n",
            "<keras.layers.convolutional.conv2d.Conv2D object at 0x7f8900d836a0>\n",
            "<keras.layers.convolutional.conv2d.Conv2D object at 0x7f890039e500>\n",
            "<keras.layers.normalization.batch_normalization.BatchNormalization object at 0x7f8900da3ee0>\n",
            "<keras.layers.normalization.batch_normalization.BatchNormalization object at 0x7f89003b6350>\n",
            "<keras.layers.merging.add.Add object at 0x7f890039fdc0>\n",
            "<keras.layers.core.activation.Activation object at 0x7f89003b7730>\n",
            "<keras.layers.convolutional.conv2d.Conv2D object at 0x7f89003b68f0>\n",
            "<keras.layers.normalization.batch_normalization.BatchNormalization object at 0x7f89003b7b80>\n",
            "<keras.layers.core.activation.Activation object at 0x7f89003b7a90>\n",
            "<keras.layers.convolutional.conv2d.Conv2D object at 0x7f89003b5360>\n",
            "<keras.layers.normalization.batch_normalization.BatchNormalization object at 0x7f89003d5ff0>\n",
            "<keras.layers.core.activation.Activation object at 0x7f89003d5d20>\n",
            "<keras.layers.convolutional.conv2d.Conv2D object at 0x7f89003d6c20>\n",
            "<keras.layers.normalization.batch_normalization.BatchNormalization object at 0x7f89003d7ca0>\n",
            "<keras.layers.merging.add.Add object at 0x7f89003d6ce0>\n",
            "<keras.layers.core.activation.Activation object at 0x7f89003d74f0>\n",
            "<keras.layers.convolutional.conv2d.Conv2D object at 0x7f89003d7a00>\n",
            "<keras.layers.normalization.batch_normalization.BatchNormalization object at 0x7f89003f20b0>\n",
            "<keras.layers.core.activation.Activation object at 0x7f89003d6e30>\n",
            "<keras.layers.convolutional.conv2d.Conv2D object at 0x7f89003f2650>\n",
            "<keras.layers.normalization.batch_normalization.BatchNormalization object at 0x7f89003f3970>\n",
            "<keras.layers.core.activation.Activation object at 0x7f89003f2f80>\n",
            "<keras.layers.convolutional.conv2d.Conv2D object at 0x7f89003f2c20>\n",
            "<keras.layers.normalization.batch_normalization.BatchNormalization object at 0x7f89003f0610>\n",
            "<keras.layers.merging.add.Add object at 0x7f89003d7190>\n",
            "<keras.layers.core.activation.Activation object at 0x7f89003d42e0>\n"
          ]
        }
      ]
    },
    {
      "cell_type": "code",
      "source": [
        "x = Flatten()(resnet.output)\n",
        "out = Dense(3, activation='softmax')(x)\n",
        "res_model = Model(inputs=resnet.input,outputs=out)"
      ],
      "metadata": {
        "id": "e46E9IGZQr5l"
      },
      "execution_count": 15,
      "outputs": []
    },
    {
      "cell_type": "code",
      "source": [
        "res_model.compile(loss='categorical_crossentropy',optimizer='adam',metrics=['accuracy'])\n",
        "res_model.fit(train,epochs=10,validation_data=validation_gen,steps_per_epoch=len(train),\n",
        "              validation_steps=len(validation_gen))"
      ],
      "metadata": {
        "colab": {
          "base_uri": "https://localhost:8080/"
        },
        "id": "82ZQIvSmR8Xd",
        "outputId": "3fba4401-a963-40a8-c4fe-90cb86eb4835"
      },
      "execution_count": 16,
      "outputs": [
        {
          "output_type": "stream",
          "name": "stdout",
          "text": [
            "Epoch 1/10\n",
            "9/9 [==============================] - 16s 1s/step - loss: 5.9471 - accuracy: 0.3873 - val_loss: 7.5831 - val_accuracy: 0.3000\n",
            "Epoch 2/10\n",
            "9/9 [==============================] - 8s 962ms/step - loss: 4.3687 - accuracy: 0.4296 - val_loss: 2.3463 - val_accuracy: 0.4000\n",
            "Epoch 3/10\n",
            "9/9 [==============================] - 7s 820ms/step - loss: 2.2352 - accuracy: 0.4718 - val_loss: 2.6372 - val_accuracy: 0.6571\n",
            "Epoch 4/10\n",
            "9/9 [==============================] - 8s 896ms/step - loss: 1.6370 - accuracy: 0.4894 - val_loss: 0.6137 - val_accuracy: 0.6857\n",
            "Epoch 5/10\n",
            "9/9 [==============================] - 8s 967ms/step - loss: 1.0026 - accuracy: 0.5775 - val_loss: 0.9505 - val_accuracy: 0.5143\n",
            "Epoch 6/10\n",
            "9/9 [==============================] - 7s 814ms/step - loss: 0.7765 - accuracy: 0.6197 - val_loss: 1.0365 - val_accuracy: 0.6143\n",
            "Epoch 7/10\n",
            "9/9 [==============================] - 8s 957ms/step - loss: 0.8034 - accuracy: 0.6479 - val_loss: 0.6680 - val_accuracy: 0.6714\n",
            "Epoch 8/10\n",
            "9/9 [==============================] - 8s 950ms/step - loss: 0.7027 - accuracy: 0.6479 - val_loss: 0.5583 - val_accuracy: 0.7143\n",
            "Epoch 9/10\n",
            "9/9 [==============================] - 7s 815ms/step - loss: 0.6491 - accuracy: 0.7007 - val_loss: 0.5343 - val_accuracy: 0.7429\n",
            "Epoch 10/10\n",
            "9/9 [==============================] - 9s 953ms/step - loss: 0.5625 - accuracy: 0.6866 - val_loss: 0.6349 - val_accuracy: 0.7000\n"
          ]
        },
        {
          "output_type": "execute_result",
          "data": {
            "text/plain": [
              "<keras.callbacks.History at 0x7f89003f07c0>"
            ]
          },
          "metadata": {},
          "execution_count": 16
        }
      ]
    },
    {
      "cell_type": "markdown",
      "source": [
        "**INCEPTIONV3**"
      ],
      "metadata": {
        "id": "9FZC6RX3SCI4"
      }
    },
    {
      "cell_type": "code",
      "source": [
        "#inseption-v3\n",
        "from tensorflow.keras.applications.inception_v3 import InceptionV3\n",
        "inc = InceptionV3(include_top=False,weights=\"imagenet\",input_shape=(224, 224, 3))"
      ],
      "metadata": {
        "colab": {
          "base_uri": "https://localhost:8080/"
        },
        "id": "INS3RvmcSEYo",
        "outputId": "3431806a-94cd-455b-df2a-11a6ecac2027"
      },
      "execution_count": 17,
      "outputs": [
        {
          "output_type": "stream",
          "name": "stdout",
          "text": [
            "Downloading data from https://storage.googleapis.com/tensorflow/keras-applications/inception_v3/inception_v3_weights_tf_dim_ordering_tf_kernels_notop.h5\n",
            "87910968/87910968 [==============================] - 5s 0us/step\n"
          ]
        }
      ]
    },
    {
      "cell_type": "code",
      "source": [
        "for layer in inc.layers:\n",
        "  layer.trainable=False\n",
        "\n",
        "for layer in inc.layers:\n",
        "  print(layer)"
      ],
      "metadata": {
        "colab": {
          "base_uri": "https://localhost:8080/"
        },
        "id": "R8mVRSb6SE-H",
        "outputId": "c854534d-99a6-42f3-f5fe-ce32b11fa555"
      },
      "execution_count": 18,
      "outputs": [
        {
          "output_type": "stream",
          "name": "stdout",
          "text": [
            "<keras.engine.input_layer.InputLayer object at 0x7f890039dc30>\n",
            "<keras.layers.convolutional.conv2d.Conv2D object at 0x7f8900db86a0>\n",
            "<keras.layers.normalization.batch_normalization.BatchNormalization object at 0x7f88829c5b70>\n",
            "<keras.layers.core.activation.Activation object at 0x7f88829c6860>\n",
            "<keras.layers.convolutional.conv2d.Conv2D object at 0x7f88829c72e0>\n",
            "<keras.layers.normalization.batch_normalization.BatchNormalization object at 0x7f88829cc250>\n",
            "<keras.layers.core.activation.Activation object at 0x7f88829c7a90>\n",
            "<keras.layers.convolutional.conv2d.Conv2D object at 0x7f88829cd3c0>\n",
            "<keras.layers.normalization.batch_normalization.BatchNormalization object at 0x7f88829ccbe0>\n",
            "<keras.layers.core.activation.Activation object at 0x7f88829cf010>\n",
            "<keras.layers.pooling.max_pooling2d.MaxPooling2D object at 0x7f88829cf910>\n",
            "<keras.layers.convolutional.conv2d.Conv2D object at 0x7f88829cffa0>\n",
            "<keras.layers.normalization.batch_normalization.BatchNormalization object at 0x7f88829d10c0>\n",
            "<keras.layers.core.activation.Activation object at 0x7f88829d1c30>\n",
            "<keras.layers.convolutional.conv2d.Conv2D object at 0x7f88829d2620>\n",
            "<keras.layers.normalization.batch_normalization.BatchNormalization object at 0x7f88829d2e90>\n",
            "<keras.layers.core.activation.Activation object at 0x7f88829d3970>\n",
            "<keras.layers.pooling.max_pooling2d.MaxPooling2D object at 0x7f88829d3730>\n",
            "<keras.layers.convolutional.conv2d.Conv2D object at 0x7f88829eb280>\n",
            "<keras.layers.normalization.batch_normalization.BatchNormalization object at 0x7f88829f5d80>\n",
            "<keras.layers.core.activation.Activation object at 0x7f88829f6650>\n",
            "<keras.layers.convolutional.conv2d.Conv2D object at 0x7f88829c6a70>\n",
            "<keras.layers.convolutional.conv2d.Conv2D object at 0x7f88829f70d0>\n",
            "<keras.layers.normalization.batch_normalization.BatchNormalization object at 0x7f88829e97b0>\n",
            "<keras.layers.normalization.batch_normalization.BatchNormalization object at 0x7f88829f5390>\n",
            "<keras.layers.core.activation.Activation object at 0x7f88829d2860>\n",
            "<keras.layers.core.activation.Activation object at 0x7f88829f77c0>\n",
            "<keras.layers.pooling.average_pooling2d.AveragePooling2D object at 0x7f8882a0b2e0>\n",
            "<keras.layers.convolutional.conv2d.Conv2D object at 0x7f88829d11e0>\n",
            "<keras.layers.convolutional.conv2d.Conv2D object at 0x7f88829ea5c0>\n",
            "<keras.layers.convolutional.conv2d.Conv2D object at 0x7f8882a087f0>\n",
            "<keras.layers.convolutional.conv2d.Conv2D object at 0x7f8882a0abc0>\n",
            "<keras.layers.normalization.batch_normalization.BatchNormalization object at 0x7f88829ce680>\n",
            "<keras.layers.normalization.batch_normalization.BatchNormalization object at 0x7f88829e82e0>\n",
            "<keras.layers.normalization.batch_normalization.BatchNormalization object at 0x7f8882a08820>\n",
            "<keras.layers.normalization.batch_normalization.BatchNormalization object at 0x7f8882a20ac0>\n",
            "<keras.layers.core.activation.Activation object at 0x7f88829cf430>\n",
            "<keras.layers.core.activation.Activation object at 0x7f88829ebb80>\n",
            "<keras.layers.core.activation.Activation object at 0x7f8882a0aa10>\n",
            "<keras.layers.core.activation.Activation object at 0x7f8882a091b0>\n",
            "<keras.layers.merging.concatenate.Concatenate object at 0x7f8882a21b10>\n",
            "<keras.layers.convolutional.conv2d.Conv2D object at 0x7f8882a3ab30>\n",
            "<keras.layers.normalization.batch_normalization.BatchNormalization object at 0x7f8882a593c0>\n",
            "<keras.layers.core.activation.Activation object at 0x7f8882a597e0>\n",
            "<keras.layers.convolutional.conv2d.Conv2D object at 0x7f8882a23be0>\n",
            "<keras.layers.convolutional.conv2d.Conv2D object at 0x7f8882a5add0>\n",
            "<keras.layers.normalization.batch_normalization.BatchNormalization object at 0x7f8882a39000>\n",
            "<keras.layers.normalization.batch_normalization.BatchNormalization object at 0x7f8882a580a0>\n",
            "<keras.layers.core.activation.Activation object at 0x7f8882a39b70>\n",
            "<keras.layers.core.activation.Activation object at 0x7f8882a5b880>\n",
            "<keras.layers.pooling.average_pooling2d.AveragePooling2D object at 0x7f8882a21300>\n",
            "<keras.layers.convolutional.conv2d.Conv2D object at 0x7f8882a20f40>\n",
            "<keras.layers.convolutional.conv2d.Conv2D object at 0x7f8882a3a560>\n",
            "<keras.layers.convolutional.conv2d.Conv2D object at 0x7f8882a5a710>\n",
            "<keras.layers.convolutional.conv2d.Conv2D object at 0x7f8882a21a50>\n",
            "<keras.layers.normalization.batch_normalization.BatchNormalization object at 0x7f8882a23370>\n",
            "<keras.layers.normalization.batch_normalization.BatchNormalization object at 0x7f8882a3b1c0>\n",
            "<keras.layers.normalization.batch_normalization.BatchNormalization object at 0x7f8882a3a080>\n",
            "<keras.layers.normalization.batch_normalization.BatchNormalization object at 0x7f88829f4a60>\n",
            "<keras.layers.core.activation.Activation object at 0x7f8882a23e50>\n",
            "<keras.layers.core.activation.Activation object at 0x7f8882a3bca0>\n",
            "<keras.layers.core.activation.Activation object at 0x7f8882a20be0>\n",
            "<keras.layers.core.activation.Activation object at 0x7f88829f4730>\n",
            "<keras.layers.merging.concatenate.Concatenate object at 0x7f88829d0400>\n",
            "<keras.layers.convolutional.conv2d.Conv2D object at 0x7f8880a961d0>\n",
            "<keras.layers.normalization.batch_normalization.BatchNormalization object at 0x7f8880a97280>\n",
            "<keras.layers.core.activation.Activation object at 0x7f8880a97d60>\n",
            "<keras.layers.convolutional.conv2d.Conv2D object at 0x7f8880a85540>\n",
            "<keras.layers.convolutional.conv2d.Conv2D object at 0x7f8880a962f0>\n",
            "<keras.layers.normalization.batch_normalization.BatchNormalization object at 0x7f8880a86ec0>\n",
            "<keras.layers.normalization.batch_normalization.BatchNormalization object at 0x7f8880aa1540>\n",
            "<keras.layers.core.activation.Activation object at 0x7f8880a879a0>\n",
            "<keras.layers.core.activation.Activation object at 0x7f8880aa18a0>\n",
            "<keras.layers.pooling.average_pooling2d.AveragePooling2D object at 0x7f8880aa2860>\n",
            "<keras.layers.convolutional.conv2d.Conv2D object at 0x7f88829ea830>\n",
            "<keras.layers.convolutional.conv2d.Conv2D object at 0x7f8880a87760>\n",
            "<keras.layers.convolutional.conv2d.Conv2D object at 0x7f8880aa2b90>\n",
            "<keras.layers.convolutional.conv2d.Conv2D object at 0x7f8880aa1600>\n",
            "<keras.layers.normalization.batch_normalization.BatchNormalization object at 0x7f8880a850c0>\n",
            "<keras.layers.normalization.batch_normalization.BatchNormalization object at 0x7f8880a950c0>\n",
            "<keras.layers.normalization.batch_normalization.BatchNormalization object at 0x7f8880aa0160>\n",
            "<keras.layers.normalization.batch_normalization.BatchNormalization object at 0x7f8880aba1d0>\n",
            "<keras.layers.core.activation.Activation object at 0x7f88829ea2c0>\n",
            "<keras.layers.core.activation.Activation object at 0x7f8880a870a0>\n",
            "<keras.layers.core.activation.Activation object at 0x7f8880aa37c0>\n",
            "<keras.layers.core.activation.Activation object at 0x7f8880abacb0>\n",
            "<keras.layers.merging.concatenate.Concatenate object at 0x7f8880abb730>\n",
            "<keras.layers.convolutional.conv2d.Conv2D object at 0x7f8880ad5960>\n",
            "<keras.layers.normalization.batch_normalization.BatchNormalization object at 0x7f8880ad6bf0>\n",
            "<keras.layers.core.activation.Activation object at 0x7f8880ad76d0>\n",
            "<keras.layers.convolutional.conv2d.Conv2D object at 0x7f8880ad6320>\n",
            "<keras.layers.normalization.batch_normalization.BatchNormalization object at 0x7f8880ad7c10>\n",
            "<keras.layers.core.activation.Activation object at 0x7f8880ad7430>\n",
            "<keras.layers.convolutional.conv2d.Conv2D object at 0x7f8880ab8100>\n",
            "<keras.layers.convolutional.conv2d.Conv2D object at 0x7f8880ad4be0>\n",
            "<keras.layers.normalization.batch_normalization.BatchNormalization object at 0x7f8880abbdf0>\n",
            "<keras.layers.normalization.batch_normalization.BatchNormalization object at 0x7f8880aa1120>\n",
            "<keras.layers.core.activation.Activation object at 0x7f8880ab9720>\n",
            "<keras.layers.core.activation.Activation object at 0x7f8880abb2b0>\n",
            "<keras.layers.pooling.max_pooling2d.MaxPooling2D object at 0x7f8880ad6d10>\n",
            "<keras.layers.merging.concatenate.Concatenate object at 0x7f8880aa1060>\n",
            "<keras.layers.convolutional.conv2d.Conv2D object at 0x7f8880aeaf80>\n",
            "<keras.layers.normalization.batch_normalization.BatchNormalization object at 0x7f8880aeb7f0>\n",
            "<keras.layers.core.activation.Activation object at 0x7f8880aebc70>\n",
            "<keras.layers.convolutional.conv2d.Conv2D object at 0x7f8880aebbb0>\n",
            "<keras.layers.normalization.batch_normalization.BatchNormalization object at 0x7f8880afcdf0>\n",
            "<keras.layers.core.activation.Activation object at 0x7f8880afc250>\n",
            "<keras.layers.convolutional.conv2d.Conv2D object at 0x7f8880a94bb0>\n",
            "<keras.layers.convolutional.conv2d.Conv2D object at 0x7f8880affb20>\n",
            "<keras.layers.normalization.batch_normalization.BatchNormalization object at 0x7f88829f4760>\n",
            "<keras.layers.normalization.batch_normalization.BatchNormalization object at 0x7f8880afebc0>\n",
            "<keras.layers.core.activation.Activation object at 0x7f8880a86a40>\n",
            "<keras.layers.core.activation.Activation object at 0x7f8880afde40>\n",
            "<keras.layers.convolutional.conv2d.Conv2D object at 0x7f8882a39b10>\n",
            "<keras.layers.convolutional.conv2d.Conv2D object at 0x7f8880afe4a0>\n",
            "<keras.layers.normalization.batch_normalization.BatchNormalization object at 0x7f8880ab8460>\n",
            "<keras.layers.normalization.batch_normalization.BatchNormalization object at 0x7f8880aff5e0>\n",
            "<keras.layers.core.activation.Activation object at 0x7f8880aea500>\n",
            "<keras.layers.core.activation.Activation object at 0x7f8880b19a50>\n",
            "<keras.layers.pooling.average_pooling2d.AveragePooling2D object at 0x7f8880b1b010>\n",
            "<keras.layers.convolutional.conv2d.Conv2D object at 0x7f8880ad6e60>\n",
            "<keras.layers.convolutional.conv2d.Conv2D object at 0x7f8880aeb250>\n",
            "<keras.layers.convolutional.conv2d.Conv2D object at 0x7f8880affc10>\n",
            "<keras.layers.convolutional.conv2d.Conv2D object at 0x7f8880b1b040>\n",
            "<keras.layers.normalization.batch_normalization.BatchNormalization object at 0x7f8880a94ca0>\n",
            "<keras.layers.normalization.batch_normalization.BatchNormalization object at 0x7f8880aea4d0>\n",
            "<keras.layers.normalization.batch_normalization.BatchNormalization object at 0x7f8880b194b0>\n",
            "<keras.layers.normalization.batch_normalization.BatchNormalization object at 0x7f8880b1aef0>\n",
            "<keras.layers.core.activation.Activation object at 0x7f8880aa21a0>\n",
            "<keras.layers.core.activation.Activation object at 0x7f8880aea5f0>\n",
            "<keras.layers.core.activation.Activation object at 0x7f8880b1a4a0>\n",
            "<keras.layers.core.activation.Activation object at 0x7f8880b1a320>\n",
            "<keras.layers.merging.concatenate.Concatenate object at 0x7f8880b1a4d0>\n",
            "<keras.layers.convolutional.conv2d.Conv2D object at 0x7f8880b33790>\n",
            "<keras.layers.normalization.batch_normalization.BatchNormalization object at 0x7f8880b32260>\n",
            "<keras.layers.core.activation.Activation object at 0x7f8880b321a0>\n",
            "<keras.layers.convolutional.conv2d.Conv2D object at 0x7f8880b320e0>\n",
            "<keras.layers.normalization.batch_normalization.BatchNormalization object at 0x7f8880b3ce50>\n",
            "<keras.layers.core.activation.Activation object at 0x7f8880b3cc40>\n",
            "<keras.layers.convolutional.conv2d.Conv2D object at 0x7f8880ab84c0>\n",
            "<keras.layers.convolutional.conv2d.Conv2D object at 0x7f8880b3f700>\n",
            "<keras.layers.normalization.batch_normalization.BatchNormalization object at 0x7f8880ad6e00>\n",
            "<keras.layers.normalization.batch_normalization.BatchNormalization object at 0x7f8880b3e7a0>\n",
            "<keras.layers.core.activation.Activation object at 0x7f8882a0ac20>\n",
            "<keras.layers.core.activation.Activation object at 0x7f8880b3db10>\n",
            "<keras.layers.convolutional.conv2d.Conv2D object at 0x7f8880a85cc0>\n",
            "<keras.layers.convolutional.conv2d.Conv2D object at 0x7f8880b3f3a0>\n",
            "<keras.layers.normalization.batch_normalization.BatchNormalization object at 0x7f8880aa21d0>\n",
            "<keras.layers.normalization.batch_normalization.BatchNormalization object at 0x7f8880b3fa60>\n",
            "<keras.layers.core.activation.Activation object at 0x7f8880a84670>\n",
            "<keras.layers.core.activation.Activation object at 0x7f8880b3fe20>\n",
            "<keras.layers.pooling.average_pooling2d.AveragePooling2D object at 0x7f8880b6a980>\n",
            "<keras.layers.convolutional.conv2d.Conv2D object at 0x7f8880b329b0>\n",
            "<keras.layers.convolutional.conv2d.Conv2D object at 0x7f8880aa16f0>\n",
            "<keras.layers.convolutional.conv2d.Conv2D object at 0x7f8880b3f520>\n",
            "<keras.layers.convolutional.conv2d.Conv2D object at 0x7f8880b6ac20>\n",
            "<keras.layers.normalization.batch_normalization.BatchNormalization object at 0x7f8880b1b0d0>\n",
            "<keras.layers.normalization.batch_normalization.BatchNormalization object at 0x7f8880b33160>\n",
            "<keras.layers.normalization.batch_normalization.BatchNormalization object at 0x7f8880b69060>\n",
            "<keras.layers.normalization.batch_normalization.BatchNormalization object at 0x7f8880b6bf40>\n",
            "<keras.layers.core.activation.Activation object at 0x7f8880b18c70>\n",
            "<keras.layers.core.activation.Activation object at 0x7f8880b33c70>\n",
            "<keras.layers.core.activation.Activation object at 0x7f8880b68550>\n",
            "<keras.layers.core.activation.Activation object at 0x7f8880b6a2c0>\n",
            "<keras.layers.merging.concatenate.Concatenate object at 0x7f8880b6a0e0>\n",
            "<keras.layers.convolutional.conv2d.Conv2D object at 0x7f8880b3ead0>\n",
            "<keras.layers.normalization.batch_normalization.BatchNormalization object at 0x7f88829ea3e0>\n",
            "<keras.layers.core.activation.Activation object at 0x7f887cbc4fa0>\n",
            "<keras.layers.convolutional.conv2d.Conv2D object at 0x7f8880aa31f0>\n",
            "<keras.layers.normalization.batch_normalization.BatchNormalization object at 0x7f8880b30850>\n",
            "<keras.layers.core.activation.Activation object at 0x7f887cbe39d0>\n",
            "<keras.layers.convolutional.conv2d.Conv2D object at 0x7f887cbc5de0>\n",
            "<keras.layers.convolutional.conv2d.Conv2D object at 0x7f887cbe3130>\n",
            "<keras.layers.normalization.batch_normalization.BatchNormalization object at 0x7f887cbc6e90>\n",
            "<keras.layers.normalization.batch_normalization.BatchNormalization object at 0x7f887cbe38b0>\n",
            "<keras.layers.core.activation.Activation object at 0x7f887cbc7f40>\n",
            "<keras.layers.core.activation.Activation object at 0x7f887cbe2110>\n",
            "<keras.layers.convolutional.conv2d.Conv2D object at 0x7f887cbc7400>\n",
            "<keras.layers.convolutional.conv2d.Conv2D object at 0x7f8880b6ae60>\n",
            "<keras.layers.normalization.batch_normalization.BatchNormalization object at 0x7f887cbc7670>\n",
            "<keras.layers.normalization.batch_normalization.BatchNormalization object at 0x7f887cbf8df0>\n",
            "<keras.layers.core.activation.Activation object at 0x7f887cbc7cd0>\n",
            "<keras.layers.core.activation.Activation object at 0x7f887cbfaf50>\n",
            "<keras.layers.pooling.average_pooling2d.AveragePooling2D object at 0x7f887cbfae60>\n",
            "<keras.layers.convolutional.conv2d.Conv2D object at 0x7f887cbc41f0>\n",
            "<keras.layers.convolutional.conv2d.Conv2D object at 0x7f887cbc6bf0>\n",
            "<keras.layers.convolutional.conv2d.Conv2D object at 0x7f887cbfa6b0>\n",
            "<keras.layers.convolutional.conv2d.Conv2D object at 0x7f887cbc6470>\n",
            "<keras.layers.normalization.batch_normalization.BatchNormalization object at 0x7f887cbc58a0>\n",
            "<keras.layers.normalization.batch_normalization.BatchNormalization object at 0x7f8880b6b370>\n",
            "<keras.layers.normalization.batch_normalization.BatchNormalization object at 0x7f887cbfae30>\n",
            "<keras.layers.normalization.batch_normalization.BatchNormalization object at 0x7f887cbf99c0>\n",
            "<keras.layers.core.activation.Activation object at 0x7f8880b32890>\n",
            "<keras.layers.core.activation.Activation object at 0x7f8880b3c520>\n",
            "<keras.layers.core.activation.Activation object at 0x7f887cbf9ea0>\n",
            "<keras.layers.core.activation.Activation object at 0x7f8882a59c00>\n",
            "<keras.layers.merging.concatenate.Concatenate object at 0x7f887cbfa830>\n",
            "<keras.layers.convolutional.conv2d.Conv2D object at 0x7f887cc3f040>\n",
            "<keras.layers.normalization.batch_normalization.BatchNormalization object at 0x7f887cc3f820>\n",
            "<keras.layers.core.activation.Activation object at 0x7f887cc3f430>\n",
            "<keras.layers.convolutional.conv2d.Conv2D object at 0x7f887cc3e9b0>\n",
            "<keras.layers.normalization.batch_normalization.BatchNormalization object at 0x7f887cc19d20>\n",
            "<keras.layers.core.activation.Activation object at 0x7f887cc1a290>\n",
            "<keras.layers.convolutional.conv2d.Conv2D object at 0x7f887cc1b310>\n",
            "<keras.layers.convolutional.conv2d.Conv2D object at 0x7f8880b69900>\n",
            "<keras.layers.normalization.batch_normalization.BatchNormalization object at 0x7f887cc1a8c0>\n",
            "<keras.layers.normalization.batch_normalization.BatchNormalization object at 0x7f887cbf9060>\n",
            "<keras.layers.core.activation.Activation object at 0x7f887cc1a920>\n",
            "<keras.layers.core.activation.Activation object at 0x7f887cbc74c0>\n",
            "<keras.layers.convolutional.conv2d.Conv2D object at 0x7f887cc1a9e0>\n",
            "<keras.layers.convolutional.conv2d.Conv2D object at 0x7f887cbc4fd0>\n",
            "<keras.layers.normalization.batch_normalization.BatchNormalization object at 0x7f887cc3c790>\n",
            "<keras.layers.normalization.batch_normalization.BatchNormalization object at 0x7f8880b323b0>\n",
            "<keras.layers.core.activation.Activation object at 0x7f887cc3cbb0>\n",
            "<keras.layers.core.activation.Activation object at 0x7f887cbf8190>\n",
            "<keras.layers.pooling.average_pooling2d.AveragePooling2D object at 0x7f887cc5fe50>\n",
            "<keras.layers.convolutional.conv2d.Conv2D object at 0x7f8880b30130>\n",
            "<keras.layers.convolutional.conv2d.Conv2D object at 0x7f887cc3f4c0>\n",
            "<keras.layers.convolutional.conv2d.Conv2D object at 0x7f8880b3fd90>\n",
            "<keras.layers.convolutional.conv2d.Conv2D object at 0x7f887cc5e770>\n",
            "<keras.layers.normalization.batch_normalization.BatchNormalization object at 0x7f887cc1a6e0>\n",
            "<keras.layers.normalization.batch_normalization.BatchNormalization object at 0x7f887cc3e560>\n",
            "<keras.layers.normalization.batch_normalization.BatchNormalization object at 0x7f887cc5d180>\n",
            "<keras.layers.normalization.batch_normalization.BatchNormalization object at 0x7f887cc5c760>\n",
            "<keras.layers.core.activation.Activation object at 0x7f887cc1bf70>\n",
            "<keras.layers.core.activation.Activation object at 0x7f887cc3e5f0>\n",
            "<keras.layers.core.activation.Activation object at 0x7f887cc5ff10>\n",
            "<keras.layers.core.activation.Activation object at 0x7f887cc5f820>\n",
            "<keras.layers.merging.concatenate.Concatenate object at 0x7f887cc5fbe0>\n",
            "<keras.layers.convolutional.conv2d.Conv2D object at 0x7f887cc65780>\n",
            "<keras.layers.normalization.batch_normalization.BatchNormalization object at 0x7f887cc912d0>\n",
            "<keras.layers.core.activation.Activation object at 0x7f887cc93160>\n",
            "<keras.layers.convolutional.conv2d.Conv2D object at 0x7f887cc928c0>\n",
            "<keras.layers.normalization.batch_normalization.BatchNormalization object at 0x7f887cc93040>\n",
            "<keras.layers.core.activation.Activation object at 0x7f887cc935b0>\n",
            "<keras.layers.convolutional.conv2d.Conv2D object at 0x7f887cc65c30>\n",
            "<keras.layers.convolutional.conv2d.Conv2D object at 0x7f887cc939a0>\n",
            "<keras.layers.normalization.batch_normalization.BatchNormalization object at 0x7f887cc653f0>\n",
            "<keras.layers.normalization.batch_normalization.BatchNormalization object at 0x7f887cc93b80>\n",
            "<keras.layers.core.activation.Activation object at 0x7f887cc1b730>\n",
            "<keras.layers.core.activation.Activation object at 0x7f887cc937f0>\n",
            "<keras.layers.convolutional.conv2d.Conv2D object at 0x7f887cc677f0>\n",
            "<keras.layers.convolutional.conv2d.Conv2D object at 0x7f887cc91b10>\n",
            "<keras.layers.normalization.batch_normalization.BatchNormalization object at 0x7f887cc66a70>\n",
            "<keras.layers.normalization.batch_normalization.BatchNormalization object at 0x7f887ccad930>\n",
            "<keras.layers.core.activation.Activation object at 0x7f887cc669b0>\n",
            "<keras.layers.core.activation.Activation object at 0x7f887ccadb40>\n",
            "<keras.layers.pooling.max_pooling2d.MaxPooling2D object at 0x7f887ccad600>\n",
            "<keras.layers.merging.concatenate.Concatenate object at 0x7f887ccae3e0>\n",
            "<keras.layers.convolutional.conv2d.Conv2D object at 0x7f887cbfba00>\n",
            "<keras.layers.normalization.batch_normalization.BatchNormalization object at 0x7f887cc65b70>\n",
            "<keras.layers.core.activation.Activation object at 0x7f887cbfa050>\n",
            "<keras.layers.convolutional.conv2d.Conv2D object at 0x7f887ccaf400>\n",
            "<keras.layers.convolutional.conv2d.Conv2D object at 0x7f887cbf87c0>\n",
            "<keras.layers.normalization.batch_normalization.BatchNormalization object at 0x7f887ccaf520>\n",
            "<keras.layers.normalization.batch_normalization.BatchNormalization object at 0x7f887cac8ac0>\n",
            "<keras.layers.core.activation.Activation object at 0x7f887ccae4a0>\n",
            "<keras.layers.core.activation.Activation object at 0x7f887cac9960>\n",
            "<keras.layers.convolutional.conv2d.Conv2D object at 0x7f887ccad420>\n",
            "<keras.layers.convolutional.conv2d.Conv2D object at 0x7f887ccad120>\n",
            "<keras.layers.convolutional.conv2d.Conv2D object at 0x7f887cacada0>\n",
            "<keras.layers.convolutional.conv2d.Conv2D object at 0x7f887cac8310>\n",
            "<keras.layers.pooling.average_pooling2d.AveragePooling2D object at 0x7f887cae4910>\n",
            "<keras.layers.convolutional.conv2d.Conv2D object at 0x7f887ccae9b0>\n",
            "<keras.layers.normalization.batch_normalization.BatchNormalization object at 0x7f887cc65f90>\n",
            "<keras.layers.normalization.batch_normalization.BatchNormalization object at 0x7f887cc91990>\n",
            "<keras.layers.normalization.batch_normalization.BatchNormalization object at 0x7f887cacad10>\n",
            "<keras.layers.normalization.batch_normalization.BatchNormalization object at 0x7f887cae42e0>\n",
            "<keras.layers.convolutional.conv2d.Conv2D object at 0x7f887cae5e70>\n",
            "<keras.layers.normalization.batch_normalization.BatchNormalization object at 0x7f887ccafa00>\n",
            "<keras.layers.core.activation.Activation object at 0x7f887cc67d30>\n",
            "<keras.layers.core.activation.Activation object at 0x7f887cbe1f60>\n",
            "<keras.layers.core.activation.Activation object at 0x7f887cacbbe0>\n",
            "<keras.layers.core.activation.Activation object at 0x7f887cae4880>\n",
            "<keras.layers.normalization.batch_normalization.BatchNormalization object at 0x7f887cae4f10>\n",
            "<keras.layers.core.activation.Activation object at 0x7f887ccaf130>\n",
            "<keras.layers.merging.concatenate.Concatenate object at 0x7f887cc3e830>\n",
            "<keras.layers.merging.concatenate.Concatenate object at 0x7f887cae6f20>\n",
            "<keras.layers.core.activation.Activation object at 0x7f887cae6e00>\n",
            "<keras.layers.merging.concatenate.Concatenate object at 0x7f887cae5de0>\n",
            "<keras.layers.convolutional.conv2d.Conv2D object at 0x7f887cb01030>\n",
            "<keras.layers.normalization.batch_normalization.BatchNormalization object at 0x7f887cb1c430>\n",
            "<keras.layers.core.activation.Activation object at 0x7f887cb1e080>\n",
            "<keras.layers.convolutional.conv2d.Conv2D object at 0x7f887cb02020>\n",
            "<keras.layers.convolutional.conv2d.Conv2D object at 0x7f887cb1f2e0>\n",
            "<keras.layers.normalization.batch_normalization.BatchNormalization object at 0x7f887cb027a0>\n",
            "<keras.layers.normalization.batch_normalization.BatchNormalization object at 0x7f887cb01510>\n",
            "<keras.layers.core.activation.Activation object at 0x7f887cb03b50>\n",
            "<keras.layers.core.activation.Activation object at 0x7f887cb00040>\n",
            "<keras.layers.convolutional.conv2d.Conv2D object at 0x7f887cb02470>\n",
            "<keras.layers.convolutional.conv2d.Conv2D object at 0x7f887cb034c0>\n",
            "<keras.layers.convolutional.conv2d.Conv2D object at 0x7f887cb03580>\n",
            "<keras.layers.convolutional.conv2d.Conv2D object at 0x7f887cbf9b70>\n",
            "<keras.layers.pooling.average_pooling2d.AveragePooling2D object at 0x7f887cb345b0>\n",
            "<keras.layers.convolutional.conv2d.Conv2D object at 0x7f887cae47f0>\n",
            "<keras.layers.normalization.batch_normalization.BatchNormalization object at 0x7f887cb03a30>\n",
            "<keras.layers.normalization.batch_normalization.BatchNormalization object at 0x7f887cb1c820>\n",
            "<keras.layers.normalization.batch_normalization.BatchNormalization object at 0x7f887cc91810>\n",
            "<keras.layers.normalization.batch_normalization.BatchNormalization object at 0x7f887cb1f220>\n",
            "<keras.layers.convolutional.conv2d.Conv2D object at 0x7f887cacbb20>\n",
            "<keras.layers.normalization.batch_normalization.BatchNormalization object at 0x7f887cae5030>\n",
            "<keras.layers.core.activation.Activation object at 0x7f887cb00370>\n",
            "<keras.layers.core.activation.Activation object at 0x7f887cb1d5a0>\n",
            "<keras.layers.core.activation.Activation object at 0x7f887cac8d00>\n",
            "<keras.layers.core.activation.Activation object at 0x7f887caca590>\n",
            "<keras.layers.normalization.batch_normalization.BatchNormalization object at 0x7f887cacba30>\n",
            "<keras.layers.core.activation.Activation object at 0x7f887cae7af0>\n",
            "<keras.layers.merging.concatenate.Concatenate object at 0x7f887cb1eda0>\n",
            "<keras.layers.merging.concatenate.Concatenate object at 0x7f887cc67460>\n",
            "<keras.layers.core.activation.Activation object at 0x7f887cb37490>\n",
            "<keras.layers.merging.concatenate.Concatenate object at 0x7f887cb36b90>\n"
          ]
        }
      ]
    },
    {
      "cell_type": "code",
      "source": [
        "x1= Flatten()(inc.output)\n",
        "pred = Dense(3, activation='softmax')(x1)\n",
        "inception_model = Model(inputs=inc.input,outputs=pred)"
      ],
      "metadata": {
        "id": "It0Vr_c_SE7t"
      },
      "execution_count": 21,
      "outputs": []
    },
    {
      "cell_type": "code",
      "source": [
        "inception_model.compile(loss='categorical_crossentropy',optimizer='adam',metrics=['accuracy'])\n",
        "inception_model.fit(train,epochs=10,validation_data=validation_gen,steps_per_epoch=len(train),\n",
        "              validation_steps=len(validation_gen))"
      ],
      "metadata": {
        "colab": {
          "base_uri": "https://localhost:8080/"
        },
        "id": "hg52o2ZASE20",
        "outputId": "5bc887ae-b8e4-45ea-9782-0aaa5850febb"
      },
      "execution_count": 22,
      "outputs": [
        {
          "output_type": "stream",
          "name": "stdout",
          "text": [
            "Epoch 1/10\n",
            "9/9 [==============================] - 20s 2s/step - loss: 3.0456 - accuracy: 0.5775 - val_loss: 2.5490 - val_accuracy: 0.7000\n",
            "Epoch 2/10\n",
            "9/9 [==============================] - 8s 949ms/step - loss: 1.2889 - accuracy: 0.7606 - val_loss: 1.4102 - val_accuracy: 0.6429\n",
            "Epoch 3/10\n",
            "9/9 [==============================] - 7s 802ms/step - loss: 0.8364 - accuracy: 0.8063 - val_loss: 1.0446 - val_accuracy: 0.7286\n",
            "Epoch 4/10\n",
            "9/9 [==============================] - 11s 1s/step - loss: 0.7248 - accuracy: 0.7923 - val_loss: 1.6858 - val_accuracy: 0.7000\n",
            "Epoch 5/10\n",
            "9/9 [==============================] - 10s 1s/step - loss: 0.7409 - accuracy: 0.8380 - val_loss: 0.9444 - val_accuracy: 0.7857\n",
            "Epoch 6/10\n",
            "9/9 [==============================] - 8s 951ms/step - loss: 0.6880 - accuracy: 0.8415 - val_loss: 2.3567 - val_accuracy: 0.5857\n",
            "Epoch 7/10\n",
            "9/9 [==============================] - 8s 951ms/step - loss: 0.8022 - accuracy: 0.8099 - val_loss: 3.3014 - val_accuracy: 0.5571\n",
            "Epoch 8/10\n",
            "9/9 [==============================] - 8s 927ms/step - loss: 0.6795 - accuracy: 0.8169 - val_loss: 0.5951 - val_accuracy: 0.8286\n",
            "Epoch 9/10\n",
            "9/9 [==============================] - 9s 980ms/step - loss: 1.0506 - accuracy: 0.7852 - val_loss: 1.6666 - val_accuracy: 0.7714\n",
            "Epoch 10/10\n",
            "9/9 [==============================] - 7s 815ms/step - loss: 1.1511 - accuracy: 0.7852 - val_loss: 1.2440 - val_accuracy: 0.7429\n"
          ]
        },
        {
          "output_type": "execute_result",
          "data": {
            "text/plain": [
              "<keras.callbacks.History at 0x7f887c0ea260>"
            ]
          },
          "metadata": {},
          "execution_count": 22
        }
      ]
    },
    {
      "cell_type": "markdown",
      "source": [
        "\n",
        "**XCEPTION**"
      ],
      "metadata": {
        "id": "yjX6xEjJSk01"
      }
    },
    {
      "cell_type": "code",
      "source": [
        "from keras.applications.xception import Xception\n",
        "xception = Xception(include_top=False,input_shape=(224,224,3))\n",
        "for layer in xception.layers:\n",
        "  layer.trainable=False\n",
        "for layer in xception.layers:\n",
        "  print(layer)"
      ],
      "metadata": {
        "colab": {
          "base_uri": "https://localhost:8080/"
        },
        "id": "4Kr7pl1HSE0u",
        "outputId": "667b9825-64d1-4936-edd7-9006f0aaf880"
      },
      "execution_count": 23,
      "outputs": [
        {
          "output_type": "stream",
          "name": "stdout",
          "text": [
            "Downloading data from https://storage.googleapis.com/tensorflow/keras-applications/xception/xception_weights_tf_dim_ordering_tf_kernels_notop.h5\n",
            "83683744/83683744 [==============================] - 5s 0us/step\n",
            "<keras.engine.input_layer.InputLayer object at 0x7f885c1af700>\n",
            "<keras.layers.convolutional.conv2d.Conv2D object at 0x7f88146f1ea0>\n",
            "<keras.layers.normalization.batch_normalization.BatchNormalization object at 0x7f887c626350>\n",
            "<keras.layers.core.activation.Activation object at 0x7f887cac82e0>\n",
            "<keras.layers.convolutional.conv2d.Conv2D object at 0x7f88829eb340>\n",
            "<keras.layers.normalization.batch_normalization.BatchNormalization object at 0x7f885c18d4e0>\n",
            "<keras.layers.core.activation.Activation object at 0x7f8814602860>\n",
            "<keras.layers.convolutional.separable_conv2d.SeparableConv2D object at 0x7f88146321a0>\n",
            "<keras.layers.normalization.batch_normalization.BatchNormalization object at 0x7f891f90f340>\n",
            "<keras.layers.core.activation.Activation object at 0x7f8814630ee0>\n",
            "<keras.layers.convolutional.separable_conv2d.SeparableConv2D object at 0x7f8814633970>\n",
            "<keras.layers.normalization.batch_normalization.BatchNormalization object at 0x7f8814603790>\n",
            "<keras.layers.convolutional.conv2d.Conv2D object at 0x7f8814603880>\n",
            "<keras.layers.pooling.max_pooling2d.MaxPooling2D object at 0x7f881461d510>\n",
            "<keras.layers.normalization.batch_normalization.BatchNormalization object at 0x7f885c1471f0>\n",
            "<keras.layers.merging.add.Add object at 0x7f8814630fd0>\n",
            "<keras.layers.core.activation.Activation object at 0x7f881461f0a0>\n",
            "<keras.layers.convolutional.separable_conv2d.SeparableConv2D object at 0x7f881461fa60>\n",
            "<keras.layers.normalization.batch_normalization.BatchNormalization object at 0x7f881461d9c0>\n",
            "<keras.layers.core.activation.Activation object at 0x7f881461f460>\n",
            "<keras.layers.convolutional.separable_conv2d.SeparableConv2D object at 0x7f881461f1f0>\n",
            "<keras.layers.normalization.batch_normalization.BatchNormalization object at 0x7f885df171f0>\n",
            "<keras.layers.convolutional.conv2d.Conv2D object at 0x7f89003d56f0>\n",
            "<keras.layers.pooling.max_pooling2d.MaxPooling2D object at 0x7f885df17190>\n",
            "<keras.layers.normalization.batch_normalization.BatchNormalization object at 0x7f88146311b0>\n",
            "<keras.layers.merging.add.Add object at 0x7f885df17cd0>\n",
            "<keras.layers.core.activation.Activation object at 0x7f885df17ca0>\n",
            "<keras.layers.convolutional.separable_conv2d.SeparableConv2D object at 0x7f885df17a00>\n",
            "<keras.layers.normalization.batch_normalization.BatchNormalization object at 0x7f885c146770>\n",
            "<keras.layers.core.activation.Activation object at 0x7f881461da80>\n",
            "<keras.layers.convolutional.separable_conv2d.SeparableConv2D object at 0x7f881461ec50>\n",
            "<keras.layers.normalization.batch_normalization.BatchNormalization object at 0x7f881461c3d0>\n",
            "<keras.layers.convolutional.conv2d.Conv2D object at 0x7f885df16830>\n",
            "<keras.layers.pooling.max_pooling2d.MaxPooling2D object at 0x7f88146031c0>\n",
            "<keras.layers.normalization.batch_normalization.BatchNormalization object at 0x7f885df17be0>\n",
            "<keras.layers.merging.add.Add object at 0x7f8814602ec0>\n",
            "<keras.layers.core.activation.Activation object at 0x7f885df30c40>\n",
            "<keras.layers.convolutional.separable_conv2d.SeparableConv2D object at 0x7f88146327d0>\n",
            "<keras.layers.normalization.batch_normalization.BatchNormalization object at 0x7f8814630c10>\n",
            "<keras.layers.core.activation.Activation object at 0x7f885df333a0>\n",
            "<keras.layers.convolutional.separable_conv2d.SeparableConv2D object at 0x7f881461e620>\n",
            "<keras.layers.normalization.batch_normalization.BatchNormalization object at 0x7f885df30e80>\n",
            "<keras.layers.core.activation.Activation object at 0x7f885df33bb0>\n",
            "<keras.layers.convolutional.separable_conv2d.SeparableConv2D object at 0x7f885df30280>\n",
            "<keras.layers.normalization.batch_normalization.BatchNormalization object at 0x7f885df327a0>\n",
            "<keras.layers.merging.add.Add object at 0x7f885df52e60>\n",
            "<keras.layers.core.activation.Activation object at 0x7f885df52650>\n",
            "<keras.layers.convolutional.separable_conv2d.SeparableConv2D object at 0x7f885df53c70>\n",
            "<keras.layers.normalization.batch_normalization.BatchNormalization object at 0x7f885df50be0>\n",
            "<keras.layers.core.activation.Activation object at 0x7f885df53b20>\n",
            "<keras.layers.convolutional.separable_conv2d.SeparableConv2D object at 0x7f885df50550>\n",
            "<keras.layers.normalization.batch_normalization.BatchNormalization object at 0x7f885df53f70>\n",
            "<keras.layers.core.activation.Activation object at 0x7f885df6f880>\n",
            "<keras.layers.convolutional.separable_conv2d.SeparableConv2D object at 0x7f885df6dfc0>\n",
            "<keras.layers.normalization.batch_normalization.BatchNormalization object at 0x7f885df6fb80>\n",
            "<keras.layers.merging.add.Add object at 0x7f885df6c820>\n",
            "<keras.layers.core.activation.Activation object at 0x7f885df84e50>\n",
            "<keras.layers.convolutional.separable_conv2d.SeparableConv2D object at 0x7f885df855a0>\n",
            "<keras.layers.normalization.batch_normalization.BatchNormalization object at 0x7f885df6c6d0>\n",
            "<keras.layers.core.activation.Activation object at 0x7f885df878b0>\n",
            "<keras.layers.convolutional.separable_conv2d.SeparableConv2D object at 0x7f885df87010>\n",
            "<keras.layers.normalization.batch_normalization.BatchNormalization object at 0x7f885df873a0>\n",
            "<keras.layers.core.activation.Activation object at 0x7f885df86d40>\n",
            "<keras.layers.convolutional.separable_conv2d.SeparableConv2D object at 0x7f885df86a70>\n",
            "<keras.layers.normalization.batch_normalization.BatchNormalization object at 0x7f885df87790>\n",
            "<keras.layers.merging.add.Add object at 0x7f885c147e80>\n",
            "<keras.layers.core.activation.Activation object at 0x7f885df84e20>\n",
            "<keras.layers.convolutional.separable_conv2d.SeparableConv2D object at 0x7f885df86ef0>\n",
            "<keras.layers.normalization.batch_normalization.BatchNormalization object at 0x7f885df6ec20>\n",
            "<keras.layers.core.activation.Activation object at 0x7f885df52fb0>\n",
            "<keras.layers.convolutional.separable_conv2d.SeparableConv2D object at 0x7f885df50d30>\n",
            "<keras.layers.normalization.batch_normalization.BatchNormalization object at 0x7f885df51240>\n",
            "<keras.layers.core.activation.Activation object at 0x7f88146315d0>\n",
            "<keras.layers.convolutional.separable_conv2d.SeparableConv2D object at 0x7f885df16a70>\n",
            "<keras.layers.normalization.batch_normalization.BatchNormalization object at 0x7f885df6d300>\n",
            "<keras.layers.merging.add.Add object at 0x7f885dfaf8e0>\n",
            "<keras.layers.core.activation.Activation object at 0x7f885df53400>\n",
            "<keras.layers.convolutional.separable_conv2d.SeparableConv2D object at 0x7f885dfac880>\n",
            "<keras.layers.normalization.batch_normalization.BatchNormalization object at 0x7f88146320e0>\n",
            "<keras.layers.core.activation.Activation object at 0x7f885dfae8c0>\n",
            "<keras.layers.convolutional.separable_conv2d.SeparableConv2D object at 0x7f885dfacee0>\n",
            "<keras.layers.normalization.batch_normalization.BatchNormalization object at 0x7f885dfac400>\n",
            "<keras.layers.core.activation.Activation object at 0x7f885dfca950>\n",
            "<keras.layers.convolutional.separable_conv2d.SeparableConv2D object at 0x7f885dfcb940>\n",
            "<keras.layers.normalization.batch_normalization.BatchNormalization object at 0x7f885dfc9690>\n",
            "<keras.layers.merging.add.Add object at 0x7f885dfcbc40>\n",
            "<keras.layers.core.activation.Activation object at 0x7f885dfac2e0>\n",
            "<keras.layers.convolutional.separable_conv2d.SeparableConv2D object at 0x7f885dfcb8e0>\n",
            "<keras.layers.normalization.batch_normalization.BatchNormalization object at 0x7f881461e560>\n",
            "<keras.layers.core.activation.Activation object at 0x7f885dfdfcd0>\n",
            "<keras.layers.convolutional.separable_conv2d.SeparableConv2D object at 0x7f885dfdd120>\n",
            "<keras.layers.normalization.batch_normalization.BatchNormalization object at 0x7f885dfdf940>\n",
            "<keras.layers.core.activation.Activation object at 0x7f885dfdf460>\n",
            "<keras.layers.convolutional.separable_conv2d.SeparableConv2D object at 0x7f885dfdcaf0>\n",
            "<keras.layers.normalization.batch_normalization.BatchNormalization object at 0x7f885dfdf3d0>\n",
            "<keras.layers.merging.add.Add object at 0x7f885dffe830>\n",
            "<keras.layers.core.activation.Activation object at 0x7f885dffc850>\n",
            "<keras.layers.convolutional.separable_conv2d.SeparableConv2D object at 0x7f885dfff5b0>\n",
            "<keras.layers.normalization.batch_normalization.BatchNormalization object at 0x7f885dfffe20>\n",
            "<keras.layers.core.activation.Activation object at 0x7f885dffc910>\n",
            "<keras.layers.convolutional.separable_conv2d.SeparableConv2D object at 0x7f885dfff940>\n",
            "<keras.layers.normalization.batch_normalization.BatchNormalization object at 0x7f885dfff9a0>\n",
            "<keras.layers.core.activation.Activation object at 0x7f885de1b2e0>\n",
            "<keras.layers.convolutional.separable_conv2d.SeparableConv2D object at 0x7f885de19b40>\n",
            "<keras.layers.normalization.batch_normalization.BatchNormalization object at 0x7f885de1bfa0>\n",
            "<keras.layers.merging.add.Add object at 0x7f885de19000>\n",
            "<keras.layers.core.activation.Activation object at 0x7f885de19f90>\n",
            "<keras.layers.convolutional.separable_conv2d.SeparableConv2D object at 0x7f885dffe4d0>\n",
            "<keras.layers.normalization.batch_normalization.BatchNormalization object at 0x7f885dffd390>\n",
            "<keras.layers.core.activation.Activation object at 0x7f885dffc7f0>\n",
            "<keras.layers.convolutional.separable_conv2d.SeparableConv2D object at 0x7f885dfde110>\n",
            "<keras.layers.normalization.batch_normalization.BatchNormalization object at 0x7f885dffe890>\n",
            "<keras.layers.core.activation.Activation object at 0x7f885dfdf580>\n",
            "<keras.layers.convolutional.separable_conv2d.SeparableConv2D object at 0x7f885df6e080>\n",
            "<keras.layers.normalization.batch_normalization.BatchNormalization object at 0x7f885df6e620>\n",
            "<keras.layers.merging.add.Add object at 0x7f885df32b90>\n",
            "<keras.layers.core.activation.Activation object at 0x7f885dfcb760>\n",
            "<keras.layers.convolutional.separable_conv2d.SeparableConv2D object at 0x7f885dfc9c90>\n",
            "<keras.layers.normalization.batch_normalization.BatchNormalization object at 0x7f885dfaf670>\n",
            "<keras.layers.core.activation.Activation object at 0x7f885de33a30>\n",
            "<keras.layers.convolutional.separable_conv2d.SeparableConv2D object at 0x7f885de31390>\n",
            "<keras.layers.normalization.batch_normalization.BatchNormalization object at 0x7f885de33d30>\n",
            "<keras.layers.convolutional.conv2d.Conv2D object at 0x7f885df51990>\n",
            "<keras.layers.pooling.max_pooling2d.MaxPooling2D object at 0x7f885de315a0>\n",
            "<keras.layers.normalization.batch_normalization.BatchNormalization object at 0x7f885df17760>\n",
            "<keras.layers.merging.add.Add object at 0x7f885de33c70>\n",
            "<keras.layers.convolutional.separable_conv2d.SeparableConv2D object at 0x7f8814633e20>\n",
            "<keras.layers.normalization.batch_normalization.BatchNormalization object at 0x7f885de30ca0>\n",
            "<keras.layers.core.activation.Activation object at 0x7f885de4bbb0>\n",
            "<keras.layers.convolutional.separable_conv2d.SeparableConv2D object at 0x7f885de4b310>\n",
            "<keras.layers.normalization.batch_normalization.BatchNormalization object at 0x7f885de4b1f0>\n",
            "<keras.layers.core.activation.Activation object at 0x7f885de48460>\n"
          ]
        }
      ]
    },
    {
      "cell_type": "code",
      "source": [
        "x = Flatten()(xception.output)\n",
        "predic = Dense(3, activation='softmax')(x)\n",
        "xce_model = Model(inputs=xception.input,outputs=predic)"
      ],
      "metadata": {
        "id": "YczznP9_SssM"
      },
      "execution_count": 24,
      "outputs": []
    },
    {
      "cell_type": "code",
      "source": [
        "xce_model.compile(loss='categorical_crossentropy',optimizer='adam',metrics=['accuracy'])\n",
        "xce_model.fit(train,epochs=10,validation_data=validation_gen,steps_per_epoch=len(train),\n",
        "              validation_steps=len(validation_gen))"
      ],
      "metadata": {
        "colab": {
          "base_uri": "https://localhost:8080/"
        },
        "id": "qtymoYbRSsqR",
        "outputId": "92484433-cd39-4533-bcf5-03964330cfa2"
      },
      "execution_count": 25,
      "outputs": [
        {
          "output_type": "stream",
          "name": "stdout",
          "text": [
            "Epoch 1/10\n",
            "9/9 [==============================] - 15s 1s/step - loss: 3.3023 - accuracy: 0.5704 - val_loss: 0.8154 - val_accuracy: 0.8857\n",
            "Epoch 2/10\n",
            "9/9 [==============================] - 8s 947ms/step - loss: 1.6106 - accuracy: 0.7007 - val_loss: 1.1486 - val_accuracy: 0.7143\n",
            "Epoch 3/10\n",
            "9/9 [==============================] - 8s 810ms/step - loss: 1.0607 - accuracy: 0.7606 - val_loss: 0.8956 - val_accuracy: 0.8000\n",
            "Epoch 4/10\n",
            "9/9 [==============================] - 8s 961ms/step - loss: 0.7007 - accuracy: 0.8169 - val_loss: 0.7047 - val_accuracy: 0.8714\n",
            "Epoch 5/10\n",
            "9/9 [==============================] - 9s 1s/step - loss: 0.5553 - accuracy: 0.8697 - val_loss: 0.8562 - val_accuracy: 0.8286\n",
            "Epoch 6/10\n",
            "9/9 [==============================] - 7s 807ms/step - loss: 0.3796 - accuracy: 0.8873 - val_loss: 0.7438 - val_accuracy: 0.7857\n",
            "Epoch 7/10\n",
            "9/9 [==============================] - 8s 956ms/step - loss: 0.9552 - accuracy: 0.8028 - val_loss: 0.8883 - val_accuracy: 0.8714\n",
            "Epoch 8/10\n",
            "9/9 [==============================] - 8s 875ms/step - loss: 1.0010 - accuracy: 0.7817 - val_loss: 1.3143 - val_accuracy: 0.6714\n",
            "Epoch 9/10\n",
            "9/9 [==============================] - 7s 818ms/step - loss: 0.9491 - accuracy: 0.8134 - val_loss: 0.7062 - val_accuracy: 0.7571\n",
            "Epoch 10/10\n",
            "9/9 [==============================] - 7s 810ms/step - loss: 1.0544 - accuracy: 0.8134 - val_loss: 0.4367 - val_accuracy: 0.9429\n"
          ]
        },
        {
          "output_type": "execute_result",
          "data": {
            "text/plain": [
              "<keras.callbacks.History at 0x7f885df52f80>"
            ]
          },
          "metadata": {},
          "execution_count": 25
        }
      ]
    },
    {
      "cell_type": "markdown",
      "source": [
        "FROM ALL THE ABOVE MODEL WE CAN CONCLUDE THAT VGG16 IS GOOD PRETRAINED MODEL"
      ],
      "metadata": {
        "id": "G0a7lCdHTYet"
      }
    }
  ]
}